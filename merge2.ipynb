{
 "cells": [
  {
   "cell_type": "code",
   "execution_count": 47,
   "metadata": {
    "collapsed": true
   },
   "outputs": [],
   "source": [
    "import pandas as pd\n",
    "import numpy as np"
   ]
  },
  {
   "cell_type": "code",
   "execution_count": 48,
   "metadata": {
    "collapsed": false
   },
   "outputs": [
    {
     "name": "stdout",
     "output_type": "stream",
     "text": [
      "Iteration is stopped.\n"
     ]
    }
   ],
   "source": [
    "reader = pd.read_csv('/Users/zhangzhihao/Desktop/Machine Learning/pre/train.csv', iterator=True)\n",
    "loop = True\n",
    "chunkSize = 100000\n",
    "chunks = []\n",
    "while loop:\n",
    "    try:\n",
    "        chunk = reader.get_chunk(chunkSize)\n",
    "        chunks.append(chunk)\n",
    "    except StopIteration:\n",
    "        loop = False\n",
    "        print (\"Iteration is stopped.\")\n",
    "df = pd.concat(chunks, ignore_index=True)"
   ]
  },
  {
   "cell_type": "code",
   "execution_count": 166,
   "metadata": {
    "collapsed": false
   },
   "outputs": [
    {
     "name": "stdout",
     "output_type": "stream",
     "text": [
      "Iteration is stopped.\n"
     ]
    }
   ],
   "source": [
    "reader = pd.read_csv('/Users/zhangzhihao/Desktop/Machine Learning/pre/ad.csv', iterator=True)\n",
    "loop = True\n",
    "chunkSize = 100000\n",
    "chunks = []\n",
    "while loop:\n",
    "    try:\n",
    "        chunk = reader.get_chunk(chunkSize)\n",
    "        chunks.append(chunk)\n",
    "    except StopIteration:\n",
    "        loop = False\n",
    "        print (\"Iteration is stopped.\")\n",
    "ad = pd.concat(chunks, ignore_index=True)"
   ]
  },
  {
   "cell_type": "code",
   "execution_count": 50,
   "metadata": {
    "collapsed": false
   },
   "outputs": [
    {
     "name": "stdout",
     "output_type": "stream",
     "text": [
      "Iteration is stopped.\n"
     ]
    }
   ],
   "source": [
    "reader = pd.read_csv('/Users/zhangzhihao/Desktop/Machine Learning/pre/app_categories.csv', iterator=True)\n",
    "loop = True\n",
    "chunkSize = 100000\n",
    "chunks = []\n",
    "while loop:\n",
    "    try:\n",
    "        chunk = reader.get_chunk(chunkSize)\n",
    "        chunks.append(chunk)\n",
    "    except StopIteration:\n",
    "        loop = False\n",
    "        print (\"Iteration is stopped.\")\n",
    "app_categories = pd.concat(chunks, ignore_index=True)"
   ]
  },
  {
   "cell_type": "code",
   "execution_count": 51,
   "metadata": {
    "collapsed": false
   },
   "outputs": [
    {
     "name": "stdout",
     "output_type": "stream",
     "text": [
      "Iteration is stopped.\n"
     ]
    }
   ],
   "source": [
    "reader = pd.read_csv('/Users/zhangzhihao/Desktop/Machine Learning/pre/position.csv', iterator=True)\n",
    "loop = True\n",
    "chunkSize = 100000\n",
    "chunks = []\n",
    "while loop:\n",
    "    try:\n",
    "        chunk = reader.get_chunk(chunkSize)\n",
    "        chunks.append(chunk)\n",
    "    except StopIteration:\n",
    "        loop = False\n",
    "        print (\"Iteration is stopped.\")\n",
    "position = pd.concat(chunks, ignore_index=True)"
   ]
  },
  {
   "cell_type": "code",
   "execution_count": 52,
   "metadata": {
    "collapsed": false
   },
   "outputs": [
    {
     "name": "stdout",
     "output_type": "stream",
     "text": [
      "Iteration is stopped.\n"
     ]
    }
   ],
   "source": [
    "reader = pd.read_csv('/Users/zhangzhihao/Desktop/Machine Learning/pre/user_app_actions.csv', iterator=True)\n",
    "loop = True\n",
    "chunkSize = 100000\n",
    "chunks = []\n",
    "while loop:\n",
    "    try:\n",
    "        chunk = reader.get_chunk(chunkSize)\n",
    "        chunks.append(chunk)\n",
    "    except StopIteration:\n",
    "        loop = False\n",
    "        print (\"Iteration is stopped.\")\n",
    "user_app_actions = pd.concat(chunks, ignore_index=True)"
   ]
  },
  {
   "cell_type": "code",
   "execution_count": 53,
   "metadata": {
    "collapsed": false
   },
   "outputs": [
    {
     "name": "stdout",
     "output_type": "stream",
     "text": [
      "Iteration is stopped.\n"
     ]
    }
   ],
   "source": [
    "reader = pd.read_csv('/Users/zhangzhihao/Desktop/Machine Learning/pre/user_installedapps.csv', iterator=True)\n",
    "loop = True\n",
    "chunkSize = 100000\n",
    "chunks = []\n",
    "while loop:\n",
    "    try:\n",
    "        chunk = reader.get_chunk(chunkSize)\n",
    "        chunks.append(chunk)\n",
    "    except StopIteration:\n",
    "        loop = False\n",
    "        print (\"Iteration is stopped.\")\n",
    "user_installedapps = pd.concat(chunks, ignore_index=True)"
   ]
  },
  {
   "cell_type": "code",
   "execution_count": 54,
   "metadata": {
    "collapsed": false
   },
   "outputs": [
    {
     "name": "stdout",
     "output_type": "stream",
     "text": [
      "Iteration is stopped.\n"
     ]
    }
   ],
   "source": [
    "reader = pd.read_csv('/Users/zhangzhihao/Desktop/Machine Learning/pre/user.csv', iterator=True)\n",
    "loop = True\n",
    "chunkSize = 100000\n",
    "chunks = []\n",
    "while loop:\n",
    "    try:\n",
    "        chunk = reader.get_chunk(chunkSize)\n",
    "        chunks.append(chunk)\n",
    "    except StopIteration:\n",
    "        loop = False\n",
    "        print (\"Iteration is stopped.\")\n",
    "user = pd.concat(chunks, ignore_index=True)"
   ]
  },
  {
   "cell_type": "code",
   "execution_count": 55,
   "metadata": {
    "collapsed": true
   },
   "outputs": [],
   "source": [
    "result=pd.merge(df,user,on='userID',how='left')"
   ]
  },
  {
   "cell_type": "code",
   "execution_count": 56,
   "metadata": {
    "collapsed": true
   },
   "outputs": [],
   "source": [
    "result=pd.merge(result,position,on='positionID',how='left')"
   ]
  },
  {
   "cell_type": "code",
   "execution_count": 57,
   "metadata": {
    "collapsed": false
   },
   "outputs": [
    {
     "data": {
      "text/plain": [
       "Index(['label', 'clickTime', 'conversionTime', 'creativeID', 'userID',\n",
       "       'positionID', 'connectionType', 'telecomsOperator', 'age', 'gender',\n",
       "       'education', 'marriageStatus', 'haveBaby', 'hometown', 'residence',\n",
       "       'sitesetID', 'positionType'],\n",
       "      dtype='object')"
      ]
     },
     "execution_count": 57,
     "metadata": {},
     "output_type": "execute_result"
    }
   ],
   "source": [
    "result.columns"
   ]
  },
  {
   "cell_type": "code",
   "execution_count": 167,
   "metadata": {
    "collapsed": false
   },
   "outputs": [],
   "source": [
    "ad_categories=pd.merge(ad,app_categories,on='appID',how='left')\n",
    "user_app_actions_categories=pd.merge(user_app_actions,app_categories,on='appID',how='left')\n",
    "user_installedapps_categories=pd.merge(user_installedapps,app_categories,on='appID',how='left')"
   ]
  },
  {
   "cell_type": "code",
   "execution_count": 64,
   "metadata": {
    "collapsed": false
   },
   "outputs": [
    {
     "name": "stdout",
     "output_type": "stream",
     "text": [
      "Iteration is stopped.\n"
     ]
    }
   ],
   "source": [
    "reader = pd.read_csv('/Users/zhangzhihao/Desktop/Tencent/user_app_action_cat_onehot.csv', iterator=True)\n",
    "loop = True\n",
    "chunkSize = 100000\n",
    "chunks = []\n",
    "while loop:\n",
    "    try:\n",
    "        chunk = reader.get_chunk(chunkSize)\n",
    "        chunks.append(chunk)\n",
    "    except StopIteration:\n",
    "        loop = False\n",
    "        print (\"Iteration is stopped.\")\n",
    "action = pd.concat(chunks, ignore_index=True)"
   ]
  },
  {
   "cell_type": "code",
   "execution_count": 65,
   "metadata": {
    "collapsed": false
   },
   "outputs": [
    {
     "name": "stdout",
     "output_type": "stream",
     "text": [
      "Iteration is stopped.\n"
     ]
    }
   ],
   "source": [
    "reader = pd.read_csv('/Users/zhangzhihao/Desktop/Tencent/user_installedapps_categories_onehot.csv', iterator=True)\n",
    "loop = True\n",
    "chunkSize = 100000\n",
    "chunks = []\n",
    "while loop:\n",
    "    try:\n",
    "        chunk = reader.get_chunk(chunkSize)\n",
    "        chunks.append(chunk)\n",
    "    except StopIteration:\n",
    "        loop = False\n",
    "        print (\"Iteration is stopped.\")\n",
    "install = pd.concat(chunks, ignore_index=True)"
   ]
  },
  {
   "cell_type": "code",
   "execution_count": 68,
   "metadata": {
    "collapsed": false
   },
   "outputs": [],
   "source": [
    "action=action.drop(['Unnamed: 0'],axis=1)\n",
    "install=install.drop(['Unnamed: 0'],axis=1)"
   ]
  },
  {
   "cell_type": "code",
   "execution_count": 70,
   "metadata": {
    "collapsed": true
   },
   "outputs": [
    {
     "data": {
      "text/plain": [
       "Index(['userID', 'appinstalled_201', 'appinstalled_409', 'appinstalled_301',\n",
       "       'appinstalled_203', 'appinstalled_503', 'appinstalled_407',\n",
       "       'appinstalled_0', 'appinstalled_103', 'appinstalled_406',\n",
       "       'appinstalled_209', 'appinstalled_108', 'appinstalled_211',\n",
       "       'appinstalled_402', 'appinstalled_210', 'appinstalled_2',\n",
       "       'appinstalled_405', 'appinstalled_408', 'appinstalled_106',\n",
       "       'appinstalled_403', 'appinstalled_401', 'appinstalled_109',\n",
       "       'appinstalled_104', 'appinstalled_303', 'appinstalled_110',\n",
       "       'appinstalled_105', 'appinstalled_204', 'appinstalled_1'],\n",
       "      dtype='object')"
      ]
     },
     "execution_count": 70,
     "metadata": {},
     "output_type": "execute_result"
    }
   ],
   "source": [
    "install.columns"
   ]
  },
  {
   "cell_type": "code",
   "execution_count": 75,
   "metadata": {
    "collapsed": false
   },
   "outputs": [],
   "source": [
    "action_name=[]\n",
    "for i in list(action.iloc[:,1:].columns):\n",
    "    action_name.append('appAction_'+str(i))\n",
    "action_name\n",
    "name=['userID']\n",
    "action_name=name+action_name"
   ]
  },
  {
   "cell_type": "code",
   "execution_count": 77,
   "metadata": {
    "collapsed": false
   },
   "outputs": [],
   "source": [
    "action.columns=action_name"
   ]
  },
  {
   "cell_type": "code",
   "execution_count": 78,
   "metadata": {
    "collapsed": true
   },
   "outputs": [
    {
     "data": {
      "text/plain": [
       "Index(['userID', 'appAction_106', 'appAction_109', 'appAction_203',\n",
       "       'appAction_104', 'appAction_503', 'appAction_0', 'appAction_201',\n",
       "       'appAction_401', 'appAction_301', 'appAction_405', 'appAction_108',\n",
       "       'appAction_408', 'appAction_402', 'appAction_209', 'appAction_407',\n",
       "       'appAction_409', 'appAction_403', 'appAction_105', 'appAction_2',\n",
       "       'appAction_210', 'appAction_110', 'appAction_406', 'appAction_211',\n",
       "       'appAction_204', 'appAction_303', 'appAction_103', 'appAction_1'],\n",
       "      dtype='object')"
      ]
     },
     "execution_count": 78,
     "metadata": {},
     "output_type": "execute_result"
    }
   ],
   "source": []
  },
  {
   "cell_type": "code",
   "execution_count": 81,
   "metadata": {
    "collapsed": false
   },
   "outputs": [
    {
     "data": {
      "text/plain": [
       "(6003471, 4)"
      ]
     },
     "execution_count": 81,
     "metadata": {},
     "output_type": "execute_result"
    }
   ],
   "source": [
    "user_app_actions_categories.shape"
   ]
  },
  {
   "cell_type": "code",
   "execution_count": 82,
   "metadata": {
    "collapsed": true
   },
   "outputs": [],
   "source": [
    "import datetime\n",
    "def aggregate(df):\n",
    "    start_time=datetime.datetime.now()\n",
    "    outcome=pd.DataFrame(np.zeros((len(df['userID'].unique()),len(df['appCategory'].unique()))),columns=list(df['appCategory'].unique()),index=list(df['userID'].unique()))\n",
    "    for i in list(df.index):\n",
    "        x=df.ix[i,['userID']]\n",
    "        y=df.ix[i,['appCategory']]\n",
    "        outcome.ix[x,y]+=1\n",
    "        if(i%10000==0):\n",
    "            print(i)\n",
    "            end_time=datetime.datetime.now()\n",
    "            print ((end_time - start_time).seconds)\n",
    "    return outcome \n",
    "\n"
   ]
  },
  {
   "cell_type": "code",
   "execution_count": 83,
   "metadata": {
    "collapsed": true
   },
   "outputs": [],
   "source": [
    "user_app_actions_categories_16=user_app_actions_categories[user_app_actions_categories['installTime']<170000]"
   ]
  },
  {
   "cell_type": "code",
   "execution_count": 95,
   "metadata": {
    "collapsed": true
   },
   "outputs": [
    {
     "name": "stdout",
     "output_type": "stream",
     "text": [
      "0\n",
      "0\n",
      "10000\n",
      "40\n",
      "20000\n",
      "81\n",
      "30000\n",
      "114\n",
      "40000\n",
      "147\n",
      "50000\n",
      "180\n",
      "60000\n",
      "213\n",
      "70000\n",
      "246\n",
      "80000\n",
      "279\n",
      "90000\n",
      "312\n",
      "100000\n",
      "345\n",
      "110000\n",
      "377\n",
      "120000\n",
      "410\n",
      "130000\n",
      "443\n",
      "140000\n",
      "476\n",
      "150000\n",
      "518\n",
      "160000\n",
      "551\n",
      "170000\n",
      "584\n",
      "180000\n",
      "616\n",
      "190000\n",
      "649\n",
      "200000\n",
      "683\n",
      "210000\n",
      "717\n",
      "220000\n",
      "753\n",
      "230000\n",
      "790\n",
      "240000\n",
      "823\n",
      "250000\n",
      "859\n",
      "260000\n",
      "897\n",
      "270000\n",
      "937\n",
      "280000\n",
      "976\n",
      "290000\n",
      "1015\n",
      "300000\n",
      "1048\n",
      "310000\n",
      "1081\n",
      "320000\n",
      "1113\n",
      "330000\n",
      "1146\n",
      "340000\n",
      "1178\n",
      "350000\n",
      "1214\n",
      "360000\n",
      "1253\n",
      "370000\n",
      "1293\n",
      "380000\n",
      "1331\n",
      "390000\n",
      "1371\n",
      "400000\n",
      "1414\n",
      "410000\n",
      "1454\n",
      "420000\n",
      "1489\n",
      "430000\n",
      "1522\n",
      "440000\n",
      "1554\n",
      "450000\n",
      "1591\n",
      "460000\n",
      "1628\n",
      "470000\n",
      "1664\n",
      "480000\n",
      "1703\n",
      "490000\n",
      "1736\n",
      "500000\n",
      "1768\n",
      "510000\n",
      "1807\n",
      "520000\n",
      "1844\n",
      "530000\n",
      "1883\n",
      "540000\n",
      "1923\n",
      "550000\n",
      "1962\n",
      "560000\n",
      "1997\n",
      "570000\n",
      "2036\n",
      "580000\n",
      "2075\n",
      "590000\n",
      "2114\n",
      "600000\n",
      "2151\n",
      "610000\n",
      "2189\n",
      "620000\n",
      "2229\n",
      "630000\n",
      "2268\n",
      "640000\n",
      "2308\n",
      "650000\n",
      "2347\n",
      "660000\n",
      "2387\n",
      "670000\n",
      "2424\n",
      "680000\n",
      "2459\n",
      "690000\n",
      "2497\n",
      "700000\n",
      "2531\n",
      "710000\n",
      "2564\n",
      "720000\n",
      "2596\n",
      "730000\n",
      "2628\n",
      "740000\n",
      "2661\n",
      "750000\n",
      "2697\n",
      "760000\n",
      "2733\n",
      "770000\n",
      "2765\n",
      "780000\n",
      "2802\n",
      "790000\n",
      "2835\n",
      "800000\n",
      "2871\n",
      "810000\n",
      "2907\n",
      "820000\n",
      "2942\n",
      "830000\n",
      "2981\n",
      "840000\n",
      "3014\n",
      "850000\n",
      "3046\n",
      "860000\n",
      "3078\n",
      "870000\n",
      "3110\n",
      "880000\n",
      "3142\n",
      "890000\n",
      "3174\n",
      "900000\n",
      "3206\n",
      "910000\n",
      "3239\n",
      "920000\n",
      "3271\n",
      "930000\n",
      "3303\n",
      "940000\n",
      "3337\n",
      "950000\n",
      "3376\n",
      "960000\n",
      "3415\n",
      "970000\n",
      "3455\n",
      "980000\n",
      "3494\n",
      "990000\n",
      "3534\n",
      "1000000\n",
      "3572\n",
      "1010000\n",
      "3612\n",
      "1020000\n",
      "3651\n",
      "1030000\n",
      "3687\n",
      "1040000\n",
      "3723\n",
      "1050000\n",
      "3763\n",
      "1060000\n",
      "3801\n",
      "1070000\n",
      "3839\n",
      "1080000\n",
      "3874\n",
      "1090000\n",
      "3907\n",
      "1100000\n",
      "3946\n",
      "1110000\n",
      "3978\n",
      "1120000\n",
      "4010\n",
      "1130000\n",
      "4056\n",
      "1140000\n",
      "4116\n",
      "1150000\n",
      "4179\n",
      "1160000\n",
      "4243\n",
      "1170000\n",
      "4282\n",
      "1180000\n",
      "4322\n",
      "1190000\n",
      "4361\n",
      "1200000\n",
      "4394\n",
      "1210000\n",
      "4427\n",
      "1220000\n",
      "4459\n",
      "1230000\n",
      "4491\n",
      "1240000\n",
      "4524\n",
      "1250000\n",
      "4556\n",
      "1260000\n",
      "4589\n",
      "1270000\n",
      "4621\n",
      "1280000\n",
      "4654\n",
      "1290000\n",
      "4693\n",
      "1300000\n",
      "4732\n",
      "1310000\n",
      "4769\n",
      "1320000\n",
      "4801\n",
      "1330000\n",
      "4834\n",
      "1340000\n",
      "4866\n",
      "1350000\n",
      "4899\n",
      "1360000\n",
      "4933\n",
      "1370000\n",
      "4965\n",
      "1380000\n",
      "4999\n",
      "1390000\n",
      "5033\n",
      "1400000\n",
      "5066\n",
      "1410000\n",
      "5099\n",
      "1420000\n",
      "5132\n",
      "1430000\n",
      "5171\n",
      "1440000\n",
      "5204\n",
      "1450000\n",
      "5243\n",
      "1460000\n",
      "5280\n",
      "1470000\n",
      "5313\n",
      "1480000\n",
      "5346\n",
      "1490000\n",
      "5383\n",
      "1500000\n",
      "5423\n",
      "1510000\n",
      "5460\n",
      "1520000\n",
      "5493\n",
      "1530000\n",
      "5529\n",
      "1540000\n",
      "5568\n",
      "1550000\n",
      "5604\n",
      "1560000\n",
      "5637\n",
      "1570000\n",
      "5672\n",
      "1580000\n",
      "5705\n",
      "1590000\n",
      "5739\n",
      "1600000\n",
      "5772\n",
      "1610000\n",
      "5805\n",
      "1620000\n",
      "5838\n",
      "1630000\n",
      "5871\n",
      "1640000\n",
      "5904\n",
      "1650000\n",
      "5937\n",
      "1660000\n",
      "5970\n",
      "1670000\n",
      "6002\n",
      "1680000\n",
      "6034\n",
      "1690000\n",
      "6067\n",
      "1700000\n",
      "6099\n",
      "1710000\n",
      "6131\n",
      "1720000\n",
      "6163\n",
      "1730000\n",
      "6195\n",
      "1740000\n",
      "6228\n",
      "1750000\n",
      "6260\n",
      "1760000\n",
      "6292\n",
      "1770000\n",
      "6324\n",
      "1780000\n",
      "6356\n",
      "1790000\n",
      "6388\n",
      "1800000\n",
      "6420\n",
      "1810000\n",
      "6453\n",
      "1820000\n",
      "6486\n",
      "1830000\n",
      "6518\n",
      "1840000\n",
      "6551\n",
      "1850000\n",
      "6583\n",
      "1860000\n",
      "6616\n",
      "1870000\n",
      "6649\n",
      "1880000\n",
      "6682\n",
      "1890000\n",
      "6714\n",
      "1900000\n",
      "6747\n",
      "1910000\n",
      "6780\n",
      "1920000\n",
      "6812\n",
      "1930000\n",
      "6845\n",
      "1940000\n",
      "6877\n",
      "1950000\n",
      "6910\n",
      "1960000\n",
      "6943\n",
      "1970000\n",
      "6975\n",
      "1980000\n",
      "7007\n",
      "1990000\n",
      "7040\n",
      "2000000\n",
      "7073\n",
      "2010000\n",
      "7109\n",
      "2020000\n",
      "7148\n",
      "2030000\n",
      "7183\n",
      "2040000\n",
      "7215\n",
      "2050000\n",
      "7248\n",
      "2060000\n",
      "7281\n",
      "2070000\n",
      "7319\n",
      "2080000\n",
      "7359\n",
      "2090000\n",
      "7401\n",
      "2100000\n",
      "7443\n",
      "2110000\n",
      "7484\n",
      "2120000\n",
      "7519\n",
      "2130000\n",
      "7551\n",
      "2140000\n",
      "7583\n",
      "2150000\n",
      "7616\n",
      "2160000\n",
      "7648\n",
      "2170000\n",
      "7681\n",
      "2180000\n",
      "7713\n",
      "2190000\n",
      "7746\n",
      "2200000\n",
      "7779\n",
      "2210000\n",
      "7811\n",
      "2220000\n",
      "7844\n",
      "2230000\n",
      "7877\n",
      "2240000\n",
      "7909\n",
      "2250000\n",
      "7942\n",
      "2260000\n",
      "7975\n",
      "2270000\n",
      "8008\n",
      "2280000\n",
      "8041\n",
      "2290000\n",
      "8074\n",
      "2300000\n",
      "8107\n",
      "2310000\n",
      "8140\n",
      "2320000\n",
      "8173\n",
      "2330000\n",
      "8206\n",
      "2340000\n",
      "8239\n",
      "2350000\n",
      "8272\n",
      "2360000\n",
      "8305\n",
      "2370000\n",
      "8338\n",
      "2380000\n",
      "8372\n",
      "2390000\n",
      "8404\n",
      "2400000\n",
      "8437\n",
      "2410000\n",
      "8471\n",
      "2420000\n",
      "8504\n",
      "2430000\n",
      "8545\n",
      "2440000\n",
      "8578\n",
      "2450000\n",
      "8611\n",
      "2460000\n",
      "8644\n",
      "2470000\n",
      "8677\n",
      "2480000\n",
      "8710\n",
      "2490000\n",
      "8744\n",
      "2500000\n",
      "8777\n",
      "2510000\n",
      "8814\n",
      "2520000\n",
      "8858\n",
      "2530000\n",
      "8894\n",
      "2540000\n",
      "8927\n",
      "2550000\n",
      "8962\n",
      "2560000\n",
      "8999\n",
      "2570000\n",
      "9035\n",
      "2580000\n",
      "9071\n",
      "2590000\n",
      "9106\n",
      "2600000\n",
      "9141\n",
      "2610000\n",
      "9177\n",
      "2620000\n",
      "9216\n",
      "2630000\n",
      "9254\n",
      "2640000\n",
      "9289\n",
      "2650000\n",
      "9325\n",
      "2660000\n",
      "9360\n",
      "2670000\n",
      "9395\n",
      "2680000\n",
      "9430\n",
      "2690000\n",
      "9465\n",
      "2700000\n",
      "9500\n",
      "2710000\n",
      "9534\n",
      "2720000\n",
      "9569\n",
      "2730000\n",
      "9603\n",
      "2740000\n",
      "9637\n",
      "2750000\n",
      "9672\n",
      "2760000\n",
      "9706\n",
      "2770000\n",
      "9740\n",
      "2780000\n",
      "9774\n",
      "2790000\n",
      "9808\n",
      "2800000\n",
      "9842\n",
      "2810000\n",
      "9876\n",
      "2820000\n",
      "9911\n",
      "2830000\n",
      "9944\n",
      "2840000\n",
      "9978\n",
      "2850000\n",
      "10012\n",
      "2860000\n",
      "10046\n",
      "2870000\n",
      "10080\n",
      "2880000\n",
      "10114\n",
      "2890000\n",
      "10147\n",
      "2900000\n",
      "10181\n",
      "2910000\n",
      "10215\n",
      "2920000\n",
      "10250\n",
      "2930000\n",
      "10284\n",
      "2940000\n",
      "10318\n",
      "2950000\n",
      "10352\n",
      "2960000\n",
      "10386\n",
      "2970000\n",
      "10420\n",
      "2980000\n",
      "10454\n",
      "2990000\n",
      "10488\n",
      "3000000\n",
      "10522\n",
      "3010000\n",
      "10556\n",
      "3020000\n",
      "10590\n",
      "3030000\n",
      "10624\n",
      "3040000\n",
      "10658\n",
      "3050000\n",
      "10692\n",
      "3060000\n",
      "10727\n",
      "3070000\n",
      "10762\n",
      "3080000\n",
      "10795\n",
      "3090000\n",
      "10830\n",
      "3100000\n",
      "10864\n",
      "3110000\n",
      "10898\n",
      "3120000\n",
      "10932\n",
      "3130000\n",
      "10966\n",
      "3140000\n",
      "11000\n",
      "3150000\n",
      "11034\n",
      "3160000\n",
      "11068\n",
      "3170000\n",
      "11101\n",
      "3180000\n",
      "11135\n",
      "3190000\n",
      "11169\n",
      "3200000\n",
      "11203\n",
      "3210000\n",
      "11237\n",
      "3220000\n",
      "11271\n",
      "3230000\n",
      "11305\n",
      "3240000\n",
      "11347\n",
      "3250000\n",
      "11385\n",
      "3260000\n",
      "11418\n",
      "3270000\n",
      "11452\n",
      "3280000\n",
      "11486\n",
      "3290000\n",
      "11524\n",
      "3300000\n",
      "11565\n",
      "3310000\n",
      "11600\n",
      "3320000\n",
      "11634\n",
      "3330000\n",
      "11669\n",
      "3340000\n",
      "11710\n",
      "3350000\n",
      "11746\n",
      "3360000\n",
      "11779\n",
      "3370000\n",
      "11813\n",
      "3380000\n",
      "11847\n",
      "3390000\n",
      "11881\n",
      "3400000\n",
      "11920\n",
      "3410000\n",
      "11960\n",
      "3420000\n",
      "12001\n",
      "3430000\n",
      "12042\n",
      "3440000\n",
      "12083\n",
      "3450000\n",
      "12123\n",
      "3460000\n",
      "12163\n",
      "3470000\n",
      "12204\n",
      "3480000\n",
      "12237\n",
      "3490000\n",
      "12271\n",
      "3500000\n",
      "12304\n",
      "3510000\n",
      "12338\n",
      "3520000\n",
      "12379\n"
     ]
    }
   ],
   "source": [
    "user_app_actions_categories_16_haha=aggregate(user_app_actions_categories_16)"
   ]
  },
  {
   "cell_type": "code",
   "execution_count": 87,
   "metadata": {
    "collapsed": true
   },
   "outputs": [],
   "source": [
    "result=pd.merge(result,install,on='userID',how='left')"
   ]
  },
  {
   "cell_type": "code",
   "execution_count": 93,
   "metadata": {
    "collapsed": false
   },
   "outputs": [],
   "source": [
    "user_app_actions_categories_16=user_app_actions_categories_16.reset_index().drop(['index'],axis=1)"
   ]
  },
  {
   "cell_type": "code",
   "execution_count": 98,
   "metadata": {
    "collapsed": false
   },
   "outputs": [],
   "source": [
    "user_app_actions_categories_16_haha.to_csv('/Users/zhangzhihao/Desktop/Tencent/user_action_before_16')"
   ]
  },
  {
   "cell_type": "code",
   "execution_count": 106,
   "metadata": {
    "collapsed": false
   },
   "outputs": [],
   "source": [
    "actions_16=user_app_actions_categories_16_haha.reset_index()"
   ]
  },
  {
   "cell_type": "code",
   "execution_count": 108,
   "metadata": {
    "collapsed": false
   },
   "outputs": [],
   "source": [
    "actions_16=actions_16.rename(columns={'index':'userID'})"
   ]
  },
  {
   "cell_type": "code",
   "execution_count": 114,
   "metadata": {
    "collapsed": false
   },
   "outputs": [],
   "source": [
    "name=actions_16.columns\n",
    "new_name=['userID']\n",
    "for i in name[1:]:\n",
    "    new_name.append('action_'+str(i))"
   ]
  },
  {
   "cell_type": "code",
   "execution_count": 117,
   "metadata": {
    "collapsed": false
   },
   "outputs": [],
   "source": [
    "actions_16.columns=new_name"
   ]
  },
  {
   "cell_type": "code",
   "execution_count": 119,
   "metadata": {
    "collapsed": false
   },
   "outputs": [],
   "source": [
    "actions_16.to_csv('/Users/zhangzhihao/Desktop/Tencent/user_action_before_16.csv')"
   ]
  },
  {
   "cell_type": "code",
   "execution_count": 120,
   "metadata": {
    "collapsed": true
   },
   "outputs": [],
   "source": [
    "result=pd.merge(result,actions_16,on='userID',how='left')"
   ]
  },
  {
   "cell_type": "code",
   "execution_count": 122,
   "metadata": {
    "collapsed": false
   },
   "outputs": [],
   "source": [
    "result.to_csv('/Users/zhangzhihao/Desktop/Tencent/train2/before_one_hot.csv')"
   ]
  },
  {
   "cell_type": "code",
   "execution_count": 125,
   "metadata": {
    "collapsed": false
   },
   "outputs": [],
   "source": [
    "result[result.isnull()]=0.0"
   ]
  },
  {
   "cell_type": "code",
   "execution_count": 134,
   "metadata": {
    "collapsed": false
   },
   "outputs": [],
   "source": [
    "result.ix[result['connectionType']==0,'connectionType']=1"
   ]
  },
  {
   "cell_type": "code",
   "execution_count": 143,
   "metadata": {
    "collapsed": false
   },
   "outputs": [
    {
     "data": {
      "text/plain": [
       "Index(['label', 'clickTime', 'conversionTime', 'creativeID', 'userID',\n",
       "       'positionID', 'connectionType', 'telecomsOperator', 'age', 'gender',\n",
       "       'education', 'marriageStatus', 'haveBaby', 'hometown', 'residence',\n",
       "       'sitesetID', 'positionType', 'appinstalled_201', 'appinstalled_409',\n",
       "       'appinstalled_301', 'appinstalled_203', 'appinstalled_503',\n",
       "       'appinstalled_407', 'appinstalled_0', 'appinstalled_103',\n",
       "       'appinstalled_406', 'appinstalled_209', 'appinstalled_108',\n",
       "       'appinstalled_211', 'appinstalled_402', 'appinstalled_210',\n",
       "       'appinstalled_2', 'appinstalled_405', 'appinstalled_408',\n",
       "       'appinstalled_106', 'appinstalled_403', 'appinstalled_401',\n",
       "       'appinstalled_109', 'appinstalled_104', 'appinstalled_303',\n",
       "       'appinstalled_110', 'appinstalled_105', 'appinstalled_204',\n",
       "       'appinstalled_1', 'action_109', 'action_104', 'action_0', 'action_106',\n",
       "       'action_401', 'action_405', 'action_108', 'action_201', 'action_408',\n",
       "       'action_503', 'action_402', 'action_301', 'action_209', 'action_407',\n",
       "       'action_203', 'action_409', 'action_403', 'action_105', 'action_2',\n",
       "       'action_210', 'action_110', 'action_406', 'action_204', 'action_303',\n",
       "       'action_211', 'action_103', 'action_1'],\n",
       "      dtype='object')"
      ]
     },
     "execution_count": 143,
     "metadata": {},
     "output_type": "execute_result"
    }
   ],
   "source": [
    "result.columns"
   ]
  },
  {
   "cell_type": "code",
   "execution_count": 145,
   "metadata": {
    "collapsed": false
   },
   "outputs": [],
   "source": [
    "result.ix[result['telecomsOperator']==0,'telecomsOperator']=1"
   ]
  },
  {
   "cell_type": "code",
   "execution_count": 147,
   "metadata": {
    "collapsed": false
   },
   "outputs": [],
   "source": [
    "result.ix[result['age']==0,'age']=15"
   ]
  },
  {
   "cell_type": "code",
   "execution_count": 148,
   "metadata": {
    "collapsed": true
   },
   "outputs": [],
   "source": [
    "result.ix[result['gender']==0,'gender']=1"
   ]
  },
  {
   "cell_type": "code",
   "execution_count": 149,
   "metadata": {
    "collapsed": true
   },
   "outputs": [],
   "source": [
    "result.ix[result['education']==0,'education']=1"
   ]
  },
  {
   "cell_type": "code",
   "execution_count": 150,
   "metadata": {
    "collapsed": true
   },
   "outputs": [],
   "source": [
    "result.ix[result['marriageStatus']==0,'marriageStatus']=2"
   ]
  },
  {
   "cell_type": "code",
   "execution_count": 151,
   "metadata": {
    "collapsed": true
   },
   "outputs": [],
   "source": [
    "result.ix[result['haveBaby']==0,'haveBaby']=1"
   ]
  },
  {
   "cell_type": "code",
   "execution_count": 152,
   "metadata": {
    "collapsed": true
   },
   "outputs": [],
   "source": [
    "result.ix[result['positionType']==0,'positionType']=1"
   ]
  },
  {
   "cell_type": "code",
   "execution_count": 155,
   "metadata": {
    "collapsed": false
   },
   "outputs": [],
   "source": [
    "result['action_209']=result['action_209']+result['action_0']"
   ]
  },
  {
   "cell_type": "code",
   "execution_count": 156,
   "metadata": {
    "collapsed": true
   },
   "outputs": [],
   "source": [
    "result['appinstalled_209']=result['appinstalled_209']+result['appinstalled_0']"
   ]
  },
  {
   "cell_type": "code",
   "execution_count": 158,
   "metadata": {
    "collapsed": false
   },
   "outputs": [],
   "source": [
    "drop_list2=['appinstalled_0','action_0']\n",
    "result=result.drop(drop_list2,axis=1)"
   ]
  },
  {
   "cell_type": "code",
   "execution_count": 165,
   "metadata": {
    "collapsed": false
   },
   "outputs": [
    {
     "data": {
      "text/plain": [
       "label               1.000000\n",
       "clickTime          -0.015268\n",
       "conversionTime      0.999427\n",
       "creativeID         -0.049775\n",
       "userID             -0.001933\n",
       "positionID         -0.039989\n",
       "connectionType     -0.054456\n",
       "telecomsOperator    0.019122\n",
       "age                 0.008861\n",
       "gender             -0.020313\n",
       "education           0.019563\n",
       "marriageStatus     -0.001200\n",
       "haveBaby            0.004998\n",
       "hometown            0.002317\n",
       "residence          -0.006860\n",
       "sitesetID           0.077101\n",
       "positionType        0.001908\n",
       "appinstalled_201    0.015430\n",
       "appinstalled_409    0.019230\n",
       "appinstalled_301    0.029947\n",
       "appinstalled_203    0.021139\n",
       "appinstalled_503    0.019270\n",
       "appinstalled_407    0.013164\n",
       "appinstalled_103    0.014572\n",
       "appinstalled_406    0.016485\n",
       "appinstalled_209    0.018443\n",
       "appinstalled_108    0.019050\n",
       "appinstalled_211   -0.000038\n",
       "appinstalled_402    0.028940\n",
       "appinstalled_210    0.011454\n",
       "                      ...   \n",
       "appinstalled_110   -0.002850\n",
       "appinstalled_105    0.012401\n",
       "appinstalled_204    0.001316\n",
       "appinstalled_1           NaN\n",
       "action_109          0.006220\n",
       "action_104          0.030890\n",
       "action_106          0.012755\n",
       "action_401          0.004418\n",
       "action_405          0.007347\n",
       "action_108          0.016124\n",
       "action_201          0.015976\n",
       "action_408          0.025014\n",
       "action_503          0.029860\n",
       "action_402          0.019330\n",
       "action_301          0.033083\n",
       "action_209          0.022758\n",
       "action_407          0.007461\n",
       "action_203          0.022243\n",
       "action_409          0.025149\n",
       "action_403          0.014533\n",
       "action_105          0.006704\n",
       "action_2            0.021048\n",
       "action_210          0.024960\n",
       "action_110          0.011826\n",
       "action_406          0.011452\n",
       "action_204         -0.003173\n",
       "action_303          0.013185\n",
       "action_211          0.004959\n",
       "action_103          0.018020\n",
       "action_1           -0.002056\n",
       "Name: label, dtype: float64"
      ]
     },
     "execution_count": 165,
     "metadata": {},
     "output_type": "execute_result"
    }
   ],
   "source": [
    "result.iloc[:20000,:].corr()['label']"
   ]
  },
  {
   "cell_type": "code",
   "execution_count": 170,
   "metadata": {
    "collapsed": false
   },
   "outputs": [],
   "source": [
    "result=pd.merge(result,ad_categories,on='creativeID',how='left')"
   ]
  },
  {
   "cell_type": "code",
   "execution_count": 173,
   "metadata": {
    "collapsed": false
   },
   "outputs": [
    {
     "data": {
      "text/plain": [
       "Index(['label', 'clickTime', 'conversionTime', 'creativeID', 'userID',\n",
       "       'positionID', 'connectionType', 'telecomsOperator', 'age', 'gender',\n",
       "       'education', 'marriageStatus', 'haveBaby', 'hometown', 'residence',\n",
       "       'sitesetID', 'positionType', 'appinstalled_201', 'appinstalled_409',\n",
       "       'appinstalled_301', 'appinstalled_203', 'appinstalled_503',\n",
       "       'appinstalled_407', 'appinstalled_103', 'appinstalled_406',\n",
       "       'appinstalled_209', 'appinstalled_108', 'appinstalled_211',\n",
       "       'appinstalled_402', 'appinstalled_210', 'appinstalled_2',\n",
       "       'appinstalled_405', 'appinstalled_408', 'appinstalled_106',\n",
       "       'appinstalled_403', 'appinstalled_401', 'appinstalled_109',\n",
       "       'appinstalled_104', 'appinstalled_303', 'appinstalled_110',\n",
       "       'appinstalled_105', 'appinstalled_204', 'appinstalled_1', 'action_109',\n",
       "       'action_104', 'action_106', 'action_401', 'action_405', 'action_108',\n",
       "       'action_201', 'action_408', 'action_503', 'action_402', 'action_301',\n",
       "       'action_209', 'action_407', 'action_203', 'action_409', 'action_403',\n",
       "       'action_105', 'action_2', 'action_210', 'action_110', 'action_406',\n",
       "       'action_204', 'action_303', 'action_211', 'action_103', 'action_1',\n",
       "       'adID', 'camgaignID', 'advertiserID', 'appID', 'appPlatform',\n",
       "       'appCategory'],\n",
       "      dtype='object')"
      ]
     },
     "execution_count": 173,
     "metadata": {},
     "output_type": "execute_result"
    }
   ],
   "source": [
    "result.columns"
   ]
  },
  {
   "cell_type": "code",
   "execution_count": 181,
   "metadata": {
    "collapsed": false
   },
   "outputs": [],
   "source": [
    "result.to_csv('/Users/zhangzhihao/Desktop/Tencent/train2/before_one_hot.csv')"
   ]
  },
  {
   "cell_type": "code",
   "execution_count": 190,
   "metadata": {
    "collapsed": false
   },
   "outputs": [],
   "source": [
    "filter=(result['clickTime']<260000)|(result['conversionTime']!=0)"
   ]
  },
  {
   "cell_type": "code",
   "execution_count": 192,
   "metadata": {
    "collapsed": false
   },
   "outputs": [],
   "source": [
    "result=result[filter]"
   ]
  },
  {
   "cell_type": "code",
   "execution_count": 196,
   "metadata": {
    "collapsed": false
   },
   "outputs": [],
   "source": [
    "result=result.sample(frac=1)"
   ]
  },
  {
   "cell_type": "code",
   "execution_count": 198,
   "metadata": {
    "collapsed": false
   },
   "outputs": [
    {
     "data": {
      "text/html": [
       "<div>\n",
       "<table border=\"1\" class=\"dataframe\">\n",
       "  <thead>\n",
       "    <tr style=\"text-align: right;\">\n",
       "      <th></th>\n",
       "      <th>label</th>\n",
       "      <th>clickTime</th>\n",
       "      <th>conversionTime</th>\n",
       "      <th>creativeID</th>\n",
       "      <th>userID</th>\n",
       "      <th>positionID</th>\n",
       "      <th>connectionType</th>\n",
       "      <th>telecomsOperator</th>\n",
       "      <th>age</th>\n",
       "      <th>gender</th>\n",
       "      <th>...</th>\n",
       "      <th>action_303</th>\n",
       "      <th>action_211</th>\n",
       "      <th>action_103</th>\n",
       "      <th>action_1</th>\n",
       "      <th>adID</th>\n",
       "      <th>camgaignID</th>\n",
       "      <th>advertiserID</th>\n",
       "      <th>appID</th>\n",
       "      <th>appPlatform</th>\n",
       "      <th>appCategory</th>\n",
       "    </tr>\n",
       "  </thead>\n",
       "  <tbody>\n",
       "    <tr>\n",
       "      <th>939544</th>\n",
       "      <td>0</td>\n",
       "      <td>211637</td>\n",
       "      <td>0.0</td>\n",
       "      <td>177</td>\n",
       "      <td>212254</td>\n",
       "      <td>2579</td>\n",
       "      <td>1</td>\n",
       "      <td>2</td>\n",
       "      <td>19</td>\n",
       "      <td>2</td>\n",
       "      <td>...</td>\n",
       "      <td>0.0</td>\n",
       "      <td>0.0</td>\n",
       "      <td>0.0</td>\n",
       "      <td>0.0</td>\n",
       "      <td>1741</td>\n",
       "      <td>201</td>\n",
       "      <td>89</td>\n",
       "      <td>420</td>\n",
       "      <td>1</td>\n",
       "      <td>402</td>\n",
       "    </tr>\n",
       "    <tr>\n",
       "      <th>517991</th>\n",
       "      <td>0</td>\n",
       "      <td>191543</td>\n",
       "      <td>0.0</td>\n",
       "      <td>225</td>\n",
       "      <td>295332</td>\n",
       "      <td>3789</td>\n",
       "      <td>1</td>\n",
       "      <td>1</td>\n",
       "      <td>15</td>\n",
       "      <td>2</td>\n",
       "      <td>...</td>\n",
       "      <td>0.0</td>\n",
       "      <td>0.0</td>\n",
       "      <td>0.0</td>\n",
       "      <td>0.0</td>\n",
       "      <td>1977</td>\n",
       "      <td>83</td>\n",
       "      <td>10</td>\n",
       "      <td>434</td>\n",
       "      <td>1</td>\n",
       "      <td>108</td>\n",
       "    </tr>\n",
       "    <tr>\n",
       "      <th>1344317</th>\n",
       "      <td>1</td>\n",
       "      <td>222108</td>\n",
       "      <td>222115.0</td>\n",
       "      <td>4565</td>\n",
       "      <td>568619</td>\n",
       "      <td>4657</td>\n",
       "      <td>1</td>\n",
       "      <td>1</td>\n",
       "      <td>22</td>\n",
       "      <td>1</td>\n",
       "      <td>...</td>\n",
       "      <td>0.0</td>\n",
       "      <td>0.0</td>\n",
       "      <td>0.0</td>\n",
       "      <td>0.0</td>\n",
       "      <td>3593</td>\n",
       "      <td>632</td>\n",
       "      <td>3</td>\n",
       "      <td>465</td>\n",
       "      <td>1</td>\n",
       "      <td>209</td>\n",
       "    </tr>\n",
       "    <tr>\n",
       "      <th>1298348</th>\n",
       "      <td>0</td>\n",
       "      <td>221905</td>\n",
       "      <td>0.0</td>\n",
       "      <td>2438</td>\n",
       "      <td>724143</td>\n",
       "      <td>1400</td>\n",
       "      <td>1</td>\n",
       "      <td>1</td>\n",
       "      <td>13</td>\n",
       "      <td>2</td>\n",
       "      <td>...</td>\n",
       "      <td>0.0</td>\n",
       "      <td>0.0</td>\n",
       "      <td>0.0</td>\n",
       "      <td>0.0</td>\n",
       "      <td>147</td>\n",
       "      <td>460</td>\n",
       "      <td>3</td>\n",
       "      <td>465</td>\n",
       "      <td>1</td>\n",
       "      <td>209</td>\n",
       "    </tr>\n",
       "    <tr>\n",
       "      <th>772424</th>\n",
       "      <td>0</td>\n",
       "      <td>210056</td>\n",
       "      <td>0.0</td>\n",
       "      <td>1540</td>\n",
       "      <td>1431225</td>\n",
       "      <td>3365</td>\n",
       "      <td>1</td>\n",
       "      <td>1</td>\n",
       "      <td>26</td>\n",
       "      <td>2</td>\n",
       "      <td>...</td>\n",
       "      <td>0.0</td>\n",
       "      <td>0.0</td>\n",
       "      <td>0.0</td>\n",
       "      <td>0.0</td>\n",
       "      <td>3593</td>\n",
       "      <td>632</td>\n",
       "      <td>3</td>\n",
       "      <td>465</td>\n",
       "      <td>1</td>\n",
       "      <td>209</td>\n",
       "    </tr>\n",
       "  </tbody>\n",
       "</table>\n",
       "<p>5 rows × 75 columns</p>\n",
       "</div>"
      ],
      "text/plain": [
       "         label  clickTime  conversionTime  creativeID   userID  positionID  \\\n",
       "939544       0     211637             0.0         177   212254        2579   \n",
       "517991       0     191543             0.0         225   295332        3789   \n",
       "1344317      1     222108        222115.0        4565   568619        4657   \n",
       "1298348      0     221905             0.0        2438   724143        1400   \n",
       "772424       0     210056             0.0        1540  1431225        3365   \n",
       "\n",
       "         connectionType  telecomsOperator  age  gender     ...       \\\n",
       "939544                1                 2   19       2     ...        \n",
       "517991                1                 1   15       2     ...        \n",
       "1344317               1                 1   22       1     ...        \n",
       "1298348               1                 1   13       2     ...        \n",
       "772424                1                 1   26       2     ...        \n",
       "\n",
       "         action_303  action_211  action_103  action_1  adID  camgaignID  \\\n",
       "939544          0.0         0.0         0.0       0.0  1741         201   \n",
       "517991          0.0         0.0         0.0       0.0  1977          83   \n",
       "1344317         0.0         0.0         0.0       0.0  3593         632   \n",
       "1298348         0.0         0.0         0.0       0.0   147         460   \n",
       "772424          0.0         0.0         0.0       0.0  3593         632   \n",
       "\n",
       "         advertiserID  appID  appPlatform  appCategory  \n",
       "939544             89    420            1          402  \n",
       "517991             10    434            1          108  \n",
       "1344317             3    465            1          209  \n",
       "1298348             3    465            1          209  \n",
       "772424              3    465            1          209  \n",
       "\n",
       "[5 rows x 75 columns]"
      ]
     },
     "execution_count": 198,
     "metadata": {},
     "output_type": "execute_result"
    }
   ],
   "source": [
    "result.head()"
   ]
  },
  {
   "cell_type": "code",
   "execution_count": 199,
   "metadata": {
    "collapsed": true
   },
   "outputs": [],
   "source": [
    "result=result.drop(['clickTime','conversionTime'],axis=1)"
   ]
  },
  {
   "cell_type": "code",
   "execution_count": 217,
   "metadata": {
    "collapsed": false
   },
   "outputs": [],
   "source": [
    "result.ix[result['appCategory']==0,'appCategory']=209"
   ]
  },
  {
   "cell_type": "code",
   "execution_count": 219,
   "metadata": {
    "collapsed": false
   },
   "outputs": [
    {
     "data": {
      "text/plain": [
       "Index(['label', 'creativeID', 'userID', 'positionID', 'connectionType',\n",
       "       'telecomsOperator', 'age', 'gender', 'education', 'marriageStatus',\n",
       "       'haveBaby', 'hometown', 'residence', 'sitesetID', 'positionType',\n",
       "       'appinstalled_201', 'appinstalled_409', 'appinstalled_301',\n",
       "       'appinstalled_203', 'appinstalled_503', 'appinstalled_407',\n",
       "       'appinstalled_103', 'appinstalled_406', 'appinstalled_209',\n",
       "       'appinstalled_108', 'appinstalled_211', 'appinstalled_402',\n",
       "       'appinstalled_210', 'appinstalled_2', 'appinstalled_405',\n",
       "       'appinstalled_408', 'appinstalled_106', 'appinstalled_403',\n",
       "       'appinstalled_401', 'appinstalled_109', 'appinstalled_104',\n",
       "       'appinstalled_303', 'appinstalled_110', 'appinstalled_105',\n",
       "       'appinstalled_204', 'appinstalled_1', 'action_109', 'action_104',\n",
       "       'action_106', 'action_401', 'action_405', 'action_108', 'action_201',\n",
       "       'action_408', 'action_503', 'action_402', 'action_301', 'action_209',\n",
       "       'action_407', 'action_203', 'action_409', 'action_403', 'action_105',\n",
       "       'action_2', 'action_210', 'action_110', 'action_406', 'action_204',\n",
       "       'action_303', 'action_211', 'action_103', 'action_1', 'adID',\n",
       "       'camgaignID', 'advertiserID', 'appID', 'appPlatform', 'appCategory'],\n",
       "      dtype='object')"
      ]
     },
     "execution_count": 219,
     "metadata": {},
     "output_type": "execute_result"
    }
   ],
   "source": [
    "result.columns"
   ]
  },
  {
   "cell_type": "code",
   "execution_count": 220,
   "metadata": {
    "collapsed": true
   },
   "outputs": [],
   "source": [
    "result.to_csv('/Users/zhangzhihao/Desktop/Tencent/train2/before_one_hot.csv')"
   ]
  },
  {
   "cell_type": "code",
   "execution_count": 1,
   "metadata": {
    "collapsed": false
   },
   "outputs": [],
   "source": [
    "import pandas as pd\n",
    "import numpy as np\n",
    "result=pd.read_csv('/Users/zhangzhihao/Desktop/Tencent/train2/before_one_hot.csv')"
   ]
  },
  {
   "cell_type": "code",
   "execution_count": null,
   "metadata": {
    "collapsed": true
   },
   "outputs": [],
   "source": [
    "dummy_list=['creativeID','positionID','connectionType','telecomsOperator','age','gender','education','marriageStatus',\n",
    "           'haveBaby','hometown','residence','sitesetID','positionType','adID','camgaignID','advertiserID',\n",
    "           'appID','appPlatform','appCategory']"
   ]
  },
  {
   "cell_type": "code",
   "execution_count": 68,
   "metadata": {
    "collapsed": false
   },
   "outputs": [],
   "source": [
    "dummy_list=['connectionType','telecomsOperator','gender','education','marriageStatus',\n",
    "           'haveBaby','sitesetID','positionType','appPlatform','appCategory']\n",
    "for i in dummy_list:\n",
    "    result[i]=result[i].astype('category')\n",
    "dummy_df=pd.get_dummies(result[dummy_list])\n",
    "haha=pd.concat([result,dummy_df],axis=1)\n",
    "haha=haha.drop(dummy_list,axis=1)"
   ]
  },
  {
   "cell_type": "code",
   "execution_count": 20,
   "metadata": {
    "collapsed": false
   },
   "outputs": [],
   "source": [
    "haha.to_csv('/Users/zhangzhihao/Desktop/Tencent/train2/one_hot_1.0.csv')"
   ]
  },
  {
   "cell_type": "code",
   "execution_count": 54,
   "metadata": {
    "collapsed": false
   },
   "outputs": [],
   "source": [
    "dummy_list2=['appID','hometown','residence','appCategory']\n",
    "for i in dummy_list2:\n",
    "    haha[i]=haha[i].astype('category')\n",
    "dummy_df=pd.get_dummies(haha[dummy_list2])\n",
    "haha=pd.concat([haha,dummy_df],axis=1)\n",
    "haha=haha.drop(dummy_list2,axis=1)"
   ]
  },
  {
   "cell_type": "code",
   "execution_count": 92,
   "metadata": {
    "collapsed": false
   },
   "outputs": [
    {
     "data": {
      "text/plain": [
       "Index(['label', 'creativeID', 'userID', 'positionID', 'age', 'hometown',\n",
       "       'residence', 'appinstalled_201', 'appinstalled_409', 'appinstalled_301',\n",
       "       ...\n",
       "       'appCategory_106', 'appCategory_108', 'appCategory_201',\n",
       "       'appCategory_203', 'appCategory_209', 'appCategory_301',\n",
       "       'appCategory_402', 'appCategory_407', 'appCategory_408',\n",
       "       'appCategory_503'],\n",
       "      dtype='object', length=111)"
      ]
     },
     "execution_count": 92,
     "metadata": {},
     "output_type": "execute_result"
    }
   ],
   "source": [
    "drop_list=['userID','residence','camgaignID','appID','hometown','creativeID','advertiserID','adID','positionID']\n",
    "haha1=haha.drop(drop_list,axis=1)\n",
    "haha.columns"
   ]
  },
  {
   "cell_type": "code",
   "execution_count": 124,
   "metadata": {
    "collapsed": false
   },
   "outputs": [],
   "source": [
    "haha['age']=haha['age'].astype('int')"
   ]
  },
  {
   "cell_type": "code",
   "execution_count": 127,
   "metadata": {
    "collapsed": false,
    "scrolled": false
   },
   "outputs": [
    {
     "ename": "XGBoostError",
     "evalue": "b'[00:55:32] src/tree/updater_colmaker.cc:161: Check failed: (n) > (0) colsample_bytree=0.7 is too small that no feature can be included'",
     "output_type": "error",
     "traceback": [
      "\u001b[0;31m---------------------------------------------------------------------------\u001b[0m",
      "\u001b[0;31mXGBoostError\u001b[0m                              Traceback (most recent call last)",
      "\u001b[0;32m<ipython-input-127-73d7008422c3>\u001b[0m in \u001b[0;36m<module>\u001b[0;34m()\u001b[0m\n\u001b[1;32m     19\u001b[0m \u001b[0mdval\u001b[0m\u001b[0;34m=\u001b[0m\u001b[0mxgb\u001b[0m\u001b[0;34m.\u001b[0m\u001b[0mDMatrix\u001b[0m\u001b[0;34m(\u001b[0m\u001b[0mdata\u001b[0m\u001b[0;34m=\u001b[0m\u001b[0mcv_train\u001b[0m\u001b[0;34m,\u001b[0m\u001b[0mlabel\u001b[0m\u001b[0;34m=\u001b[0m\u001b[0mcv_label\u001b[0m\u001b[0;34m)\u001b[0m\u001b[0;34m\u001b[0m\u001b[0m\n\u001b[1;32m     20\u001b[0m \u001b[0mwatchlist\u001b[0m\u001b[0;34m=\u001b[0m\u001b[0;34m[\u001b[0m\u001b[0;34m(\u001b[0m\u001b[0mdtrain\u001b[0m\u001b[0;34m,\u001b[0m\u001b[0;34m'train'\u001b[0m\u001b[0;34m)\u001b[0m\u001b[0;34m,\u001b[0m\u001b[0;34m(\u001b[0m\u001b[0mdval\u001b[0m\u001b[0;34m,\u001b[0m\u001b[0;34m'val'\u001b[0m\u001b[0;34m)\u001b[0m\u001b[0;34m]\u001b[0m\u001b[0;34m\u001b[0m\u001b[0m\n\u001b[0;32m---> 21\u001b[0;31m \u001b[0mbst\u001b[0m\u001b[0;34m=\u001b[0m\u001b[0mxgb\u001b[0m\u001b[0;34m.\u001b[0m\u001b[0mtrain\u001b[0m\u001b[0;34m(\u001b[0m\u001b[0mparams\u001b[0m\u001b[0;34m,\u001b[0m\u001b[0mdtrain\u001b[0m\u001b[0;34m,\u001b[0m\u001b[0;36m86\u001b[0m\u001b[0;34m,\u001b[0m\u001b[0mevals\u001b[0m\u001b[0;34m=\u001b[0m\u001b[0mwatchlist\u001b[0m\u001b[0;34m)\u001b[0m\u001b[0;34m\u001b[0m\u001b[0m\n\u001b[0m",
      "\u001b[0;32m/Users/zhangzhihao/anaconda3/lib/python3.6/site-packages/xgboost/training.py\u001b[0m in \u001b[0;36mtrain\u001b[0;34m(params, dtrain, num_boost_round, evals, obj, feval, maximize, early_stopping_rounds, evals_result, verbose_eval, learning_rates, xgb_model, callbacks)\u001b[0m\n\u001b[1;32m    203\u001b[0m                            \u001b[0mevals\u001b[0m\u001b[0;34m=\u001b[0m\u001b[0mevals\u001b[0m\u001b[0;34m,\u001b[0m\u001b[0;34m\u001b[0m\u001b[0m\n\u001b[1;32m    204\u001b[0m                            \u001b[0mobj\u001b[0m\u001b[0;34m=\u001b[0m\u001b[0mobj\u001b[0m\u001b[0;34m,\u001b[0m \u001b[0mfeval\u001b[0m\u001b[0;34m=\u001b[0m\u001b[0mfeval\u001b[0m\u001b[0;34m,\u001b[0m\u001b[0;34m\u001b[0m\u001b[0m\n\u001b[0;32m--> 205\u001b[0;31m                            xgb_model=xgb_model, callbacks=callbacks)\n\u001b[0m\u001b[1;32m    206\u001b[0m \u001b[0;34m\u001b[0m\u001b[0m\n\u001b[1;32m    207\u001b[0m \u001b[0;34m\u001b[0m\u001b[0m\n",
      "\u001b[0;32m/Users/zhangzhihao/anaconda3/lib/python3.6/site-packages/xgboost/training.py\u001b[0m in \u001b[0;36m_train_internal\u001b[0;34m(params, dtrain, num_boost_round, evals, obj, feval, xgb_model, callbacks)\u001b[0m\n\u001b[1;32m     74\u001b[0m         \u001b[0;31m# Skip the first update if it is a recovery step.\u001b[0m\u001b[0;34m\u001b[0m\u001b[0;34m\u001b[0m\u001b[0m\n\u001b[1;32m     75\u001b[0m         \u001b[0;32mif\u001b[0m \u001b[0mversion\u001b[0m \u001b[0;34m%\u001b[0m \u001b[0;36m2\u001b[0m \u001b[0;34m==\u001b[0m \u001b[0;36m0\u001b[0m\u001b[0;34m:\u001b[0m\u001b[0;34m\u001b[0m\u001b[0m\n\u001b[0;32m---> 76\u001b[0;31m             \u001b[0mbst\u001b[0m\u001b[0;34m.\u001b[0m\u001b[0mupdate\u001b[0m\u001b[0;34m(\u001b[0m\u001b[0mdtrain\u001b[0m\u001b[0;34m,\u001b[0m \u001b[0mi\u001b[0m\u001b[0;34m,\u001b[0m \u001b[0mobj\u001b[0m\u001b[0;34m)\u001b[0m\u001b[0;34m\u001b[0m\u001b[0m\n\u001b[0m\u001b[1;32m     77\u001b[0m             \u001b[0mbst\u001b[0m\u001b[0;34m.\u001b[0m\u001b[0msave_rabit_checkpoint\u001b[0m\u001b[0;34m(\u001b[0m\u001b[0;34m)\u001b[0m\u001b[0;34m\u001b[0m\u001b[0m\n\u001b[1;32m     78\u001b[0m             \u001b[0mversion\u001b[0m \u001b[0;34m+=\u001b[0m \u001b[0;36m1\u001b[0m\u001b[0;34m\u001b[0m\u001b[0m\n",
      "\u001b[0;32m/Users/zhangzhihao/anaconda3/lib/python3.6/site-packages/xgboost/core.py\u001b[0m in \u001b[0;36mupdate\u001b[0;34m(self, dtrain, iteration, fobj)\u001b[0m\n\u001b[1;32m    804\u001b[0m \u001b[0;34m\u001b[0m\u001b[0m\n\u001b[1;32m    805\u001b[0m         \u001b[0;32mif\u001b[0m \u001b[0mfobj\u001b[0m \u001b[0;32mis\u001b[0m \u001b[0;32mNone\u001b[0m\u001b[0;34m:\u001b[0m\u001b[0;34m\u001b[0m\u001b[0m\n\u001b[0;32m--> 806\u001b[0;31m             \u001b[0m_check_call\u001b[0m\u001b[0;34m(\u001b[0m\u001b[0m_LIB\u001b[0m\u001b[0;34m.\u001b[0m\u001b[0mXGBoosterUpdateOneIter\u001b[0m\u001b[0;34m(\u001b[0m\u001b[0mself\u001b[0m\u001b[0;34m.\u001b[0m\u001b[0mhandle\u001b[0m\u001b[0;34m,\u001b[0m \u001b[0miteration\u001b[0m\u001b[0;34m,\u001b[0m \u001b[0mdtrain\u001b[0m\u001b[0;34m.\u001b[0m\u001b[0mhandle\u001b[0m\u001b[0;34m)\u001b[0m\u001b[0;34m)\u001b[0m\u001b[0;34m\u001b[0m\u001b[0m\n\u001b[0m\u001b[1;32m    807\u001b[0m         \u001b[0;32melse\u001b[0m\u001b[0;34m:\u001b[0m\u001b[0;34m\u001b[0m\u001b[0m\n\u001b[1;32m    808\u001b[0m             \u001b[0mpred\u001b[0m \u001b[0;34m=\u001b[0m \u001b[0mself\u001b[0m\u001b[0;34m.\u001b[0m\u001b[0mpredict\u001b[0m\u001b[0;34m(\u001b[0m\u001b[0mdtrain\u001b[0m\u001b[0;34m)\u001b[0m\u001b[0;34m\u001b[0m\u001b[0m\n",
      "\u001b[0;32m/Users/zhangzhihao/anaconda3/lib/python3.6/site-packages/xgboost/core.py\u001b[0m in \u001b[0;36m_check_call\u001b[0;34m(ret)\u001b[0m\n\u001b[1;32m    125\u001b[0m     \"\"\"\n\u001b[1;32m    126\u001b[0m     \u001b[0;32mif\u001b[0m \u001b[0mret\u001b[0m \u001b[0;34m!=\u001b[0m \u001b[0;36m0\u001b[0m\u001b[0;34m:\u001b[0m\u001b[0;34m\u001b[0m\u001b[0m\n\u001b[0;32m--> 127\u001b[0;31m         \u001b[0;32mraise\u001b[0m \u001b[0mXGBoostError\u001b[0m\u001b[0;34m(\u001b[0m\u001b[0m_LIB\u001b[0m\u001b[0;34m.\u001b[0m\u001b[0mXGBGetLastError\u001b[0m\u001b[0;34m(\u001b[0m\u001b[0;34m)\u001b[0m\u001b[0;34m)\u001b[0m\u001b[0;34m\u001b[0m\u001b[0m\n\u001b[0m\u001b[1;32m    128\u001b[0m \u001b[0;34m\u001b[0m\u001b[0m\n\u001b[1;32m    129\u001b[0m \u001b[0;34m\u001b[0m\u001b[0m\n",
      "\u001b[0;31mXGBoostError\u001b[0m: b'[00:55:32] src/tree/updater_colmaker.cc:161: Check failed: (n) > (0) colsample_bytree=0.7 is too small that no feature can be included'"
     ]
    }
   ],
   "source": [
    "import xgboost as xgb\n",
    "d_train=haha.iloc[:100000,1:2]\n",
    "d_label=haha.iloc[:100000,0]\n",
    "dtrain=xgb.DMatrix(data=d_train,label=d_label)\n",
    "params = {\n",
    "            'objective':'binary:logistic',\n",
    "            'eval_metric':'logloss',\n",
    "            'eta':0.1,\n",
    "            'max_depth':12,\n",
    "            'subsample':0.9,\n",
    "            'min_child_weight':15,\n",
    "            'colsample_bytree':0.7,\n",
    "            'scale_pos_weight':0.75,\n",
    "            'gamma':0.2,            \n",
    "            'lambda':70\n",
    "}\n",
    "cv_train=haha.iloc[100000:140000,1:2]\n",
    "cv_label=haha.iloc[100000:140000,0]\n",
    "dval=xgb.DMatrix(data=cv_train,label=cv_label)\n",
    "watchlist=[(dtrain,'train'),(dval,'val')]\n",
    "bst=xgb.train(params,dtrain,86,evals=watchlist)"
   ]
  },
  {
   "cell_type": "code",
   "execution_count": 99,
   "metadata": {
    "collapsed": false
   },
   "outputs": [],
   "source": [
    "ad=pd.read_csv('/Users/zhangzhihao/Desktop/Tencent/drop2/ad_delete_clickTime.csv')\n",
    "ad=ad.drop(['Unnamed: 0'],axis=1)\n",
    "shuffled_index=np.random.permutation(ad.index)\n",
    "ad=ad.loc[shuffled_index]\n",
    "ad=ad.reset_index().drop(['index'],axis=1)"
   ]
  },
  {
   "cell_type": "code",
   "execution_count": 138,
   "metadata": {
    "collapsed": true
   },
   "outputs": [],
   "source": [
    "import scipy as sp\n",
    "def logloss(act, pred):\n",
    "    epsilon = 1e-15\n",
    "    pred = sp.maximum(epsilon, pred)\n",
    "    pred = sp.minimum(1-epsilon, pred)\n",
    "    ll = sum(act*sp.log(pred) + sp.subtract(1,act)*sp.log(sp.subtract(1,pred)))\n",
    "    ll = ll * -1.0/len(act)\n",
    "    return ll\n",
    "def hypothesis(clf,Set,train_len,cv_len):\n",
    "    train=Set.iloc[:train_len,1:]\n",
    "    label=Set.iloc[:train_len,0]\n",
    "    cv_train=Set.iloc[train_len:train_len+cv_len,1:]\n",
    "    cv_label=Set.iloc[train_len:train_len+cv_len,0]\n",
    "    clf.fit(train,label)\n",
    "    pred=clf.predict_proba(cv_train)[:,1]\n",
    "    return logloss(cv_label,pred)"
   ]
  },
  {
   "cell_type": "code",
   "execution_count": 47,
   "metadata": {
    "collapsed": true
   },
   "outputs": [],
   "source": [
    "from sklearn.linear_model import LogisticRegression\n"
   ]
  },
  {
   "cell_type": "code",
   "execution_count": 48,
   "metadata": {
    "collapsed": true
   },
   "outputs": [],
   "source": [
    "lr=LogisticRegression()"
   ]
  },
  {
   "cell_type": "code",
   "execution_count": 139,
   "metadata": {
    "collapsed": false
   },
   "outputs": [
    {
     "data": {
      "text/plain": [
       "0.10886564890951718"
      ]
     },
     "execution_count": 139,
     "metadata": {},
     "output_type": "execute_result"
    }
   ],
   "source": [
    "hypothesis(lr,ad,train_len=100000,cv_len=40000)"
   ]
  },
  {
   "cell_type": "code",
   "execution_count": null,
   "metadata": {
    "collapsed": true
   },
   "outputs": [],
   "source": [
    "haha.columns"
   ]
  },
  {
   "cell_type": "code",
   "execution_count": null,
   "metadata": {
    "collapsed": true
   },
   "outputs": [],
   "source": []
  }
 ],
 "metadata": {
  "kernelspec": {
   "display_name": "Python 3",
   "language": "python",
   "name": "python3"
  },
  "language_info": {
   "codemirror_mode": {
    "name": "ipython",
    "version": 3
   },
   "file_extension": ".py",
   "mimetype": "text/x-python",
   "name": "python",
   "nbconvert_exporter": "python",
   "pygments_lexer": "ipython3",
   "version": "3.6.0"
  }
 },
 "nbformat": 4,
 "nbformat_minor": 2
}
