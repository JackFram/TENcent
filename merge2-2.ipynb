{
 "cells": [
  {
   "cell_type": "code",
   "execution_count": 1,
   "metadata": {
    "collapsed": true
   },
   "outputs": [],
   "source": [
    "import pandas as pd\n",
    "import numpy as np"
   ]
  },
  {
   "cell_type": "code",
   "execution_count": 2,
   "metadata": {
    "collapsed": false
   },
   "outputs": [
    {
     "name": "stdout",
     "output_type": "stream",
     "text": [
      "Iteration is stopped.\n"
     ]
    }
   ],
   "source": [
    "reader = pd.read_csv('/Users/zhangzhihao/Desktop/Machine Learning/pre/train.csv', iterator=True)\n",
    "loop = True\n",
    "chunkSize = 100000\n",
    "chunks = []\n",
    "while loop:\n",
    "    try:\n",
    "        chunk = reader.get_chunk(chunkSize)\n",
    "        chunks.append(chunk)\n",
    "    except StopIteration:\n",
    "        loop = False\n",
    "        print (\"Iteration is stopped.\")\n",
    "df = pd.concat(chunks, ignore_index=True)"
   ]
  },
  {
   "cell_type": "code",
   "execution_count": 3,
   "metadata": {
    "collapsed": false
   },
   "outputs": [
    {
     "name": "stdout",
     "output_type": "stream",
     "text": [
      "Iteration is stopped.\n"
     ]
    }
   ],
   "source": [
    "reader = pd.read_csv('/Users/zhangzhihao/Desktop/Machine Learning/pre/ad.csv', iterator=True)\n",
    "loop = True\n",
    "chunkSize = 100000\n",
    "chunks = []\n",
    "while loop:\n",
    "    try:\n",
    "        chunk = reader.get_chunk(chunkSize)\n",
    "        chunks.append(chunk)\n",
    "    except StopIteration:\n",
    "        loop = False\n",
    "        print (\"Iteration is stopped.\")\n",
    "ad = pd.concat(chunks, ignore_index=True)"
   ]
  },
  {
   "cell_type": "code",
   "execution_count": 4,
   "metadata": {
    "collapsed": false
   },
   "outputs": [
    {
     "name": "stdout",
     "output_type": "stream",
     "text": [
      "Iteration is stopped.\n"
     ]
    }
   ],
   "source": [
    "reader = pd.read_csv('/Users/zhangzhihao/Desktop/Machine Learning/pre/app_categories.csv', iterator=True)\n",
    "loop = True\n",
    "chunkSize = 100000\n",
    "chunks = []\n",
    "while loop:\n",
    "    try:\n",
    "        chunk = reader.get_chunk(chunkSize)\n",
    "        chunks.append(chunk)\n",
    "    except StopIteration:\n",
    "        loop = False\n",
    "        print (\"Iteration is stopped.\")\n",
    "app_categories = pd.concat(chunks, ignore_index=True)"
   ]
  },
  {
   "cell_type": "code",
   "execution_count": 5,
   "metadata": {
    "collapsed": false
   },
   "outputs": [
    {
     "name": "stdout",
     "output_type": "stream",
     "text": [
      "Iteration is stopped.\n"
     ]
    }
   ],
   "source": [
    "reader = pd.read_csv('/Users/zhangzhihao/Desktop/Machine Learning/pre/position.csv', iterator=True)\n",
    "loop = True\n",
    "chunkSize = 100000\n",
    "chunks = []\n",
    "while loop:\n",
    "    try:\n",
    "        chunk = reader.get_chunk(chunkSize)\n",
    "        chunks.append(chunk)\n",
    "    except StopIteration:\n",
    "        loop = False\n",
    "        print (\"Iteration is stopped.\")\n",
    "position = pd.concat(chunks, ignore_index=True)"
   ]
  },
  {
   "cell_type": "code",
   "execution_count": 6,
   "metadata": {
    "collapsed": false
   },
   "outputs": [
    {
     "name": "stdout",
     "output_type": "stream",
     "text": [
      "Iteration is stopped.\n"
     ]
    }
   ],
   "source": [
    "reader = pd.read_csv('/Users/zhangzhihao/Desktop/Machine Learning/pre/user_app_actions.csv', iterator=True)\n",
    "loop = True\n",
    "chunkSize = 100000\n",
    "chunks = []\n",
    "while loop:\n",
    "    try:\n",
    "        chunk = reader.get_chunk(chunkSize)\n",
    "        chunks.append(chunk)\n",
    "    except StopIteration:\n",
    "        loop = False\n",
    "        print (\"Iteration is stopped.\")\n",
    "user_app_actions = pd.concat(chunks, ignore_index=True)"
   ]
  },
  {
   "cell_type": "code",
   "execution_count": 7,
   "metadata": {
    "collapsed": false
   },
   "outputs": [
    {
     "name": "stdout",
     "output_type": "stream",
     "text": [
      "Iteration is stopped.\n"
     ]
    }
   ],
   "source": [
    "reader = pd.read_csv('/Users/zhangzhihao/Desktop/Machine Learning/pre/user_installedapps.csv', iterator=True)\n",
    "loop = True\n",
    "chunkSize = 100000\n",
    "chunks = []\n",
    "while loop:\n",
    "    try:\n",
    "        chunk = reader.get_chunk(chunkSize)\n",
    "        chunks.append(chunk)\n",
    "    except StopIteration:\n",
    "        loop = False\n",
    "        print (\"Iteration is stopped.\")\n",
    "user_installedapps = pd.concat(chunks, ignore_index=True)"
   ]
  },
  {
   "cell_type": "code",
   "execution_count": 8,
   "metadata": {
    "collapsed": false
   },
   "outputs": [
    {
     "name": "stdout",
     "output_type": "stream",
     "text": [
      "Iteration is stopped.\n"
     ]
    }
   ],
   "source": [
    "reader = pd.read_csv('/Users/zhangzhihao/Desktop/Machine Learning/pre/user.csv', iterator=True)\n",
    "loop = True\n",
    "chunkSize = 100000\n",
    "chunks = []\n",
    "while loop:\n",
    "    try:\n",
    "        chunk = reader.get_chunk(chunkSize)\n",
    "        chunks.append(chunk)\n",
    "    except StopIteration:\n",
    "        loop = False\n",
    "        print (\"Iteration is stopped.\")\n",
    "user = pd.concat(chunks, ignore_index=True)"
   ]
  },
  {
   "cell_type": "code",
   "execution_count": 9,
   "metadata": {
    "collapsed": true
   },
   "outputs": [],
   "source": [
    "result=pd.merge(df,user,on='userID',how='left')"
   ]
  },
  {
   "cell_type": "code",
   "execution_count": 10,
   "metadata": {
    "collapsed": true
   },
   "outputs": [],
   "source": [
    "result=pd.merge(result,position,on='positionID',how='left')"
   ]
  },
  {
   "cell_type": "code",
   "execution_count": 11,
   "metadata": {
    "collapsed": false
   },
   "outputs": [
    {
     "data": {
      "text/plain": [
       "Index(['label', 'clickTime', 'conversionTime', 'creativeID', 'userID',\n",
       "       'positionID', 'connectionType', 'telecomsOperator', 'age', 'gender',\n",
       "       'education', 'marriageStatus', 'haveBaby', 'hometown', 'residence',\n",
       "       'sitesetID', 'positionType'],\n",
       "      dtype='object')"
      ]
     },
     "execution_count": 11,
     "metadata": {},
     "output_type": "execute_result"
    }
   ],
   "source": [
    "result.columns"
   ]
  },
  {
   "cell_type": "code",
   "execution_count": 12,
   "metadata": {
    "collapsed": false
   },
   "outputs": [],
   "source": [
    "ad_categories=pd.merge(ad,app_categories,on='appID',how='left')\n",
    "user_app_actions_categories=pd.merge(user_app_actions,app_categories,on='appID',how='left')\n",
    "user_installedapps_categories=pd.merge(user_installedapps,app_categories,on='appID',how='left')"
   ]
  },
  {
   "cell_type": "code",
   "execution_count": 13,
   "metadata": {
    "collapsed": false
   },
   "outputs": [
    {
     "name": "stdout",
     "output_type": "stream",
     "text": [
      "Iteration is stopped.\n"
     ]
    }
   ],
   "source": [
    "reader = pd.read_csv('/Users/zhangzhihao/Desktop/Tencent/user_app_action_cat_onehot.csv', iterator=True)\n",
    "loop = True\n",
    "chunkSize = 100000\n",
    "chunks = []\n",
    "while loop:\n",
    "    try:\n",
    "        chunk = reader.get_chunk(chunkSize)\n",
    "        chunks.append(chunk)\n",
    "    except StopIteration:\n",
    "        loop = False\n",
    "        print (\"Iteration is stopped.\")\n",
    "action = pd.concat(chunks, ignore_index=True)"
   ]
  },
  {
   "cell_type": "code",
   "execution_count": 14,
   "metadata": {
    "collapsed": false
   },
   "outputs": [
    {
     "name": "stdout",
     "output_type": "stream",
     "text": [
      "Iteration is stopped.\n"
     ]
    }
   ],
   "source": [
    "reader = pd.read_csv('/Users/zhangzhihao/Desktop/Tencent/user_installedapps_categories_onehot.csv', iterator=True)\n",
    "loop = True\n",
    "chunkSize = 100000\n",
    "chunks = []\n",
    "while loop:\n",
    "    try:\n",
    "        chunk = reader.get_chunk(chunkSize)\n",
    "        chunks.append(chunk)\n",
    "    except StopIteration:\n",
    "        loop = False\n",
    "        print (\"Iteration is stopped.\")\n",
    "install = pd.concat(chunks, ignore_index=True)"
   ]
  },
  {
   "cell_type": "code",
   "execution_count": 15,
   "metadata": {
    "collapsed": false
   },
   "outputs": [],
   "source": [
    "action=action.drop(['Unnamed: 0'],axis=1)\n",
    "install=install.drop(['Unnamed: 0'],axis=1)"
   ]
  },
  {
   "cell_type": "code",
   "execution_count": 16,
   "metadata": {
    "collapsed": false
   },
   "outputs": [
    {
     "data": {
      "text/plain": [
       "Index(['userID', 'appinstalled_201', 'appinstalled_409', 'appinstalled_301',\n",
       "       'appinstalled_203', 'appinstalled_503', 'appinstalled_407',\n",
       "       'appinstalled_0', 'appinstalled_103', 'appinstalled_406',\n",
       "       'appinstalled_209', 'appinstalled_108', 'appinstalled_211',\n",
       "       'appinstalled_402', 'appinstalled_210', 'appinstalled_2',\n",
       "       'appinstalled_405', 'appinstalled_408', 'appinstalled_106',\n",
       "       'appinstalled_403', 'appinstalled_401', 'appinstalled_109',\n",
       "       'appinstalled_104', 'appinstalled_303', 'appinstalled_110',\n",
       "       'appinstalled_105', 'appinstalled_204', 'appinstalled_1'],\n",
       "      dtype='object')"
      ]
     },
     "execution_count": 16,
     "metadata": {},
     "output_type": "execute_result"
    }
   ],
   "source": [
    "install.columns"
   ]
  },
  {
   "cell_type": "code",
   "execution_count": 17,
   "metadata": {
    "collapsed": false
   },
   "outputs": [],
   "source": [
    "action_name=[]\n",
    "for i in list(action.iloc[:,1:].columns):\n",
    "    action_name.append('appAction_'+str(i))\n",
    "action_name\n",
    "name=['userID']\n",
    "action_name=name+action_name"
   ]
  },
  {
   "cell_type": "code",
   "execution_count": 18,
   "metadata": {
    "collapsed": false
   },
   "outputs": [],
   "source": [
    "action.columns=action_name"
   ]
  },
  {
   "cell_type": "code",
   "execution_count": null,
   "metadata": {
    "collapsed": true
   },
   "outputs": [],
   "source": []
  },
  {
   "cell_type": "code",
   "execution_count": 19,
   "metadata": {
    "collapsed": false
   },
   "outputs": [
    {
     "data": {
      "text/plain": [
       "(6003471, 4)"
      ]
     },
     "execution_count": 19,
     "metadata": {},
     "output_type": "execute_result"
    }
   ],
   "source": [
    "user_app_actions_categories.shape"
   ]
  },
  {
   "cell_type": "code",
   "execution_count": 20,
   "metadata": {
    "collapsed": true
   },
   "outputs": [],
   "source": [
    "import datetime\n",
    "def aggregate(df):\n",
    "    start_time=datetime.datetime.now()\n",
    "    outcome=pd.DataFrame(np.zeros((len(df['userID'].unique()),len(df['appCategory'].unique()))),columns=list(df['appCategory'].unique()),index=list(df['userID'].unique()))\n",
    "    for i in list(df.index):\n",
    "        x=df.ix[i,['userID']]\n",
    "        y=df.ix[i,['appCategory']]\n",
    "        outcome.ix[x,y]+=1\n",
    "        if(i%10000==0):\n",
    "            print(i)\n",
    "            end_time=datetime.datetime.now()\n",
    "            print ((end_time - start_time).seconds)\n",
    "    return outcome \n",
    "\n"
   ]
  },
  {
   "cell_type": "code",
   "execution_count": 21,
   "metadata": {
    "collapsed": true
   },
   "outputs": [],
   "source": [
    "user_app_actions_categories_16=user_app_actions_categories[user_app_actions_categories['installTime']<170000]"
   ]
  },
  {
   "cell_type": "code",
   "execution_count": 23,
   "metadata": {
    "collapsed": true
   },
   "outputs": [],
   "source": [
    "result=pd.merge(result,install,on='userID',how='left')"
   ]
  },
  {
   "cell_type": "code",
   "execution_count": null,
   "metadata": {
    "collapsed": false
   },
   "outputs": [],
   "source": [
    "user_app_actions_categories_16=user_app_actions_categories_16.reset_index().drop(['index'],axis=1)"
   ]
  },
  {
   "cell_type": "code",
   "execution_count": 25,
   "metadata": {
    "collapsed": false
   },
   "outputs": [],
   "source": [
    "user_app_actions_categories_16_haha=pd.read_csv('/Users/zhangzhihao/Desktop/Tencent/user_action_before_16.csv')"
   ]
  },
  {
   "cell_type": "code",
   "execution_count": null,
   "metadata": {
    "collapsed": false
   },
   "outputs": [],
   "source": [
    "actions_16=user_app_actions_categories_16_haha.reset_index()"
   ]
  },
  {
   "cell_type": "code",
   "execution_count": null,
   "metadata": {
    "collapsed": false
   },
   "outputs": [],
   "source": [
    "actions_16=actions_16.rename(columns={'index':'userID'})"
   ]
  },
  {
   "cell_type": "code",
   "execution_count": 27,
   "metadata": {
    "collapsed": false
   },
   "outputs": [],
   "source": [
    "actions_16=user_app_actions_categories_16_haha.drop(['Unnamed: 0'],axis=1)"
   ]
  },
  {
   "cell_type": "code",
   "execution_count": null,
   "metadata": {
    "collapsed": false
   },
   "outputs": [],
   "source": [
    "actions_16.columns=new_name"
   ]
  },
  {
   "cell_type": "code",
   "execution_count": null,
   "metadata": {
    "collapsed": false
   },
   "outputs": [],
   "source": [
    "actions_16.to_csv('/Users/zhangzhihao/Desktop/Tencent/user_action_before_16.csv')"
   ]
  },
  {
   "cell_type": "code",
   "execution_count": 28,
   "metadata": {
    "collapsed": true
   },
   "outputs": [],
   "source": [
    "result=pd.merge(result,actions_16,on='userID',how='left')"
   ]
  },
  {
   "cell_type": "code",
   "execution_count": 29,
   "metadata": {
    "collapsed": false
   },
   "outputs": [],
   "source": [
    "result[result.isnull()]=0.0"
   ]
  },
  {
   "cell_type": "code",
   "execution_count": 30,
   "metadata": {
    "collapsed": false
   },
   "outputs": [],
   "source": [
    "result.ix[result['connectionType']==0,'connectionType']=1"
   ]
  },
  {
   "cell_type": "code",
   "execution_count": 31,
   "metadata": {
    "collapsed": false
   },
   "outputs": [
    {
     "data": {
      "text/plain": [
       "Index(['label', 'clickTime', 'conversionTime', 'creativeID', 'userID',\n",
       "       'positionID', 'connectionType', 'telecomsOperator', 'age', 'gender',\n",
       "       'education', 'marriageStatus', 'haveBaby', 'hometown', 'residence',\n",
       "       'sitesetID', 'positionType', 'appinstalled_201', 'appinstalled_409',\n",
       "       'appinstalled_301', 'appinstalled_203', 'appinstalled_503',\n",
       "       'appinstalled_407', 'appinstalled_0', 'appinstalled_103',\n",
       "       'appinstalled_406', 'appinstalled_209', 'appinstalled_108',\n",
       "       'appinstalled_211', 'appinstalled_402', 'appinstalled_210',\n",
       "       'appinstalled_2', 'appinstalled_405', 'appinstalled_408',\n",
       "       'appinstalled_106', 'appinstalled_403', 'appinstalled_401',\n",
       "       'appinstalled_109', 'appinstalled_104', 'appinstalled_303',\n",
       "       'appinstalled_110', 'appinstalled_105', 'appinstalled_204',\n",
       "       'appinstalled_1', 'action_109', 'action_104', 'action_0', 'action_106',\n",
       "       'action_401', 'action_405', 'action_108', 'action_201', 'action_408',\n",
       "       'action_503', 'action_402', 'action_301', 'action_209', 'action_407',\n",
       "       'action_203', 'action_409', 'action_403', 'action_105', 'action_2',\n",
       "       'action_210', 'action_110', 'action_406', 'action_204', 'action_303',\n",
       "       'action_211', 'action_103', 'action_1'],\n",
       "      dtype='object')"
      ]
     },
     "execution_count": 31,
     "metadata": {},
     "output_type": "execute_result"
    }
   ],
   "source": [
    "result.columns"
   ]
  },
  {
   "cell_type": "code",
   "execution_count": 32,
   "metadata": {
    "collapsed": false
   },
   "outputs": [],
   "source": [
    "result.ix[result['telecomsOperator']==0,'telecomsOperator']=1"
   ]
  },
  {
   "cell_type": "code",
   "execution_count": 33,
   "metadata": {
    "collapsed": false
   },
   "outputs": [],
   "source": [
    "result.ix[result['age']==0,'age']=15"
   ]
  },
  {
   "cell_type": "code",
   "execution_count": 34,
   "metadata": {
    "collapsed": true
   },
   "outputs": [],
   "source": [
    "result.ix[result['gender']==0,'gender']=1"
   ]
  },
  {
   "cell_type": "code",
   "execution_count": 35,
   "metadata": {
    "collapsed": true
   },
   "outputs": [],
   "source": [
    "result.ix[result['education']==0,'education']=1"
   ]
  },
  {
   "cell_type": "code",
   "execution_count": 36,
   "metadata": {
    "collapsed": true
   },
   "outputs": [],
   "source": [
    "result.ix[result['marriageStatus']==0,'marriageStatus']=2"
   ]
  },
  {
   "cell_type": "code",
   "execution_count": 37,
   "metadata": {
    "collapsed": true
   },
   "outputs": [],
   "source": [
    "result.ix[result['haveBaby']==0,'haveBaby']=1"
   ]
  },
  {
   "cell_type": "code",
   "execution_count": 38,
   "metadata": {
    "collapsed": true
   },
   "outputs": [],
   "source": [
    "result.ix[result['positionType']==0,'positionType']=1"
   ]
  },
  {
   "cell_type": "code",
   "execution_count": 39,
   "metadata": {
    "collapsed": false
   },
   "outputs": [],
   "source": [
    "result['action_209']=result['action_209']+result['action_0']"
   ]
  },
  {
   "cell_type": "code",
   "execution_count": 40,
   "metadata": {
    "collapsed": true
   },
   "outputs": [],
   "source": [
    "result['appinstalled_209']=result['appinstalled_209']+result['appinstalled_0']"
   ]
  },
  {
   "cell_type": "code",
   "execution_count": 41,
   "metadata": {
    "collapsed": false
   },
   "outputs": [],
   "source": [
    "drop_list2=['appinstalled_0','action_0']\n",
    "result=result.drop(drop_list2,axis=1)"
   ]
  },
  {
   "cell_type": "code",
   "execution_count": 42,
   "metadata": {
    "collapsed": false
   },
   "outputs": [],
   "source": [
    "result=pd.merge(result,ad_categories,on='creativeID',how='left')"
   ]
  },
  {
   "cell_type": "code",
   "execution_count": 43,
   "metadata": {
    "collapsed": false
   },
   "outputs": [],
   "source": [
    "result.to_csv('/Users/zhangzhihao/Desktop/Tencent/train2/before_one_hot.csv')"
   ]
  },
  {
   "cell_type": "code",
   "execution_count": 83,
   "metadata": {
    "collapsed": false
   },
   "outputs": [],
   "source": [
    "result=pd.read_csv('/Users/zhangzhihao/Desktop/Tencent/train2/before_one_hot.csv')\n",
    "filter=(result['clickTime']<260000)|(result['conversionTime']!=0)"
   ]
  },
  {
   "cell_type": "code",
   "execution_count": 84,
   "metadata": {
    "collapsed": false
   },
   "outputs": [],
   "source": [
    "result=result[filter]"
   ]
  },
  {
   "cell_type": "code",
   "execution_count": 85,
   "metadata": {
    "collapsed": false
   },
   "outputs": [],
   "source": [
    "result=result.sample(frac=1)"
   ]
  },
  {
   "cell_type": "code",
   "execution_count": 48,
   "metadata": {
    "collapsed": false
   },
   "outputs": [
    {
     "data": {
      "text/plain": [
       "Index(['label', 'clickTime', 'conversionTime', 'creativeID', 'userID',\n",
       "       'positionID', 'connectionType', 'telecomsOperator', 'age', 'gender',\n",
       "       'education', 'marriageStatus', 'haveBaby', 'hometown', 'residence',\n",
       "       'sitesetID', 'positionType', 'appinstalled_201', 'appinstalled_409',\n",
       "       'appinstalled_301', 'appinstalled_203', 'appinstalled_503',\n",
       "       'appinstalled_407', 'appinstalled_103', 'appinstalled_406',\n",
       "       'appinstalled_209', 'appinstalled_108', 'appinstalled_211',\n",
       "       'appinstalled_402', 'appinstalled_210', 'appinstalled_2',\n",
       "       'appinstalled_405', 'appinstalled_408', 'appinstalled_106',\n",
       "       'appinstalled_403', 'appinstalled_401', 'appinstalled_109',\n",
       "       'appinstalled_104', 'appinstalled_303', 'appinstalled_110',\n",
       "       'appinstalled_105', 'appinstalled_204', 'appinstalled_1', 'action_109',\n",
       "       'action_104', 'action_106', 'action_401', 'action_405', 'action_108',\n",
       "       'action_201', 'action_408', 'action_503', 'action_402', 'action_301',\n",
       "       'action_209', 'action_407', 'action_203', 'action_409', 'action_403',\n",
       "       'action_105', 'action_2', 'action_210', 'action_110', 'action_406',\n",
       "       'action_204', 'action_303', 'action_211', 'action_103', 'action_1',\n",
       "       'adID', 'camgaignID', 'advertiserID', 'appID', 'appPlatform',\n",
       "       'appCategory'],\n",
       "      dtype='object')"
      ]
     },
     "execution_count": 48,
     "metadata": {},
     "output_type": "execute_result"
    }
   ],
   "source": [
    "result.columns"
   ]
  },
  {
   "cell_type": "code",
   "execution_count": 51,
   "metadata": {
    "collapsed": false
   },
   "outputs": [],
   "source": [
    "user_app_actions_categories.head()\n",
    "user_app_actions_categories.ix[user_app_actions_categories['appCategory']==0,'appCategory']=209"
   ]
  },
  {
   "cell_type": "code",
   "execution_count": 64,
   "metadata": {
    "collapsed": false
   },
   "outputs": [],
   "source": [
    "import datetime\n",
    "start_time=datetime.datetime.now()\n",
    "df_list=[]\n",
    "user_app_actions_categories.head()\n",
    "app_action_af16=user_app_actions_categories.sort_values(by='installTime')[user_app_actions_categories.sort_values(by='installTime')['installTime']>=160000]"
   ]
  },
  {
   "cell_type": "code",
   "execution_count": 69,
   "metadata": {
    "collapsed": false
   },
   "outputs": [],
   "source": [
    "app_action_af16=app_action_af16[app_action_af16['installTime']<260000]"
   ]
  },
  {
   "cell_type": "code",
   "execution_count": 71,
   "metadata": {
    "collapsed": false
   },
   "outputs": [
    {
     "name": "stderr",
     "output_type": "stream",
     "text": [
      "/Users/zhangzhihao/anaconda3/lib/python3.6/site-packages/ipykernel/__main__.py:1: SettingWithCopyWarning: \n",
      "A value is trying to be set on a copy of a slice from a DataFrame.\n",
      "Try using .loc[row_indexer,col_indexer] = value instead\n",
      "\n",
      "See the caveats in the documentation: http://pandas.pydata.org/pandas-docs/stable/indexing.html#indexing-view-versus-copy\n",
      "  if __name__ == '__main__':\n"
     ]
    }
   ],
   "source": [
    "app_action_af16['installTime']=(app_action_af16['installTime']/10000).astype('int')"
   ]
  },
  {
   "cell_type": "code",
   "execution_count": 72,
   "metadata": {
    "collapsed": false
   },
   "outputs": [
    {
     "data": {
      "text/html": [
       "<div>\n",
       "<table border=\"1\" class=\"dataframe\">\n",
       "  <thead>\n",
       "    <tr style=\"text-align: right;\">\n",
       "      <th></th>\n",
       "      <th>userID</th>\n",
       "      <th>installTime</th>\n",
       "      <th>appID</th>\n",
       "      <th>appCategory</th>\n",
       "    </tr>\n",
       "  </thead>\n",
       "  <tbody>\n",
       "    <tr>\n",
       "      <th>507748</th>\n",
       "      <td>241777</td>\n",
       "      <td>16</td>\n",
       "      <td>377</td>\n",
       "      <td>407</td>\n",
       "    </tr>\n",
       "    <tr>\n",
       "      <th>88648</th>\n",
       "      <td>42384</td>\n",
       "      <td>16</td>\n",
       "      <td>565</td>\n",
       "      <td>203</td>\n",
       "    </tr>\n",
       "    <tr>\n",
       "      <th>88649</th>\n",
       "      <td>42384</td>\n",
       "      <td>16</td>\n",
       "      <td>11388</td>\n",
       "      <td>203</td>\n",
       "    </tr>\n",
       "    <tr>\n",
       "      <th>4711454</th>\n",
       "      <td>2197744</td>\n",
       "      <td>16</td>\n",
       "      <td>403</td>\n",
       "      <td>201</td>\n",
       "    </tr>\n",
       "    <tr>\n",
       "      <th>4717161</th>\n",
       "      <td>2200471</td>\n",
       "      <td>16</td>\n",
       "      <td>430</td>\n",
       "      <td>104</td>\n",
       "    </tr>\n",
       "    <tr>\n",
       "      <th>1584114</th>\n",
       "      <td>745365</td>\n",
       "      <td>16</td>\n",
       "      <td>708</td>\n",
       "      <td>401</td>\n",
       "    </tr>\n",
       "    <tr>\n",
       "      <th>3203550</th>\n",
       "      <td>1498133</td>\n",
       "      <td>16</td>\n",
       "      <td>1430</td>\n",
       "      <td>209</td>\n",
       "    </tr>\n",
       "    <tr>\n",
       "      <th>3203551</th>\n",
       "      <td>1498133</td>\n",
       "      <td>16</td>\n",
       "      <td>1716</td>\n",
       "      <td>402</td>\n",
       "    </tr>\n",
       "    <tr>\n",
       "      <th>1061594</th>\n",
       "      <td>501235</td>\n",
       "      <td>16</td>\n",
       "      <td>4863</td>\n",
       "      <td>106</td>\n",
       "    </tr>\n",
       "    <tr>\n",
       "      <th>5450808</th>\n",
       "      <td>2545198</td>\n",
       "      <td>16</td>\n",
       "      <td>409</td>\n",
       "      <td>405</td>\n",
       "    </tr>\n",
       "    <tr>\n",
       "      <th>1760725</th>\n",
       "      <td>826756</td>\n",
       "      <td>16</td>\n",
       "      <td>1029</td>\n",
       "      <td>106</td>\n",
       "    </tr>\n",
       "    <tr>\n",
       "      <th>2892157</th>\n",
       "      <td>1354234</td>\n",
       "      <td>16</td>\n",
       "      <td>8739</td>\n",
       "      <td>203</td>\n",
       "    </tr>\n",
       "    <tr>\n",
       "      <th>4934049</th>\n",
       "      <td>2302288</td>\n",
       "      <td>16</td>\n",
       "      <td>725</td>\n",
       "      <td>106</td>\n",
       "    </tr>\n",
       "    <tr>\n",
       "      <th>2227125</th>\n",
       "      <td>1044513</td>\n",
       "      <td>16</td>\n",
       "      <td>90804</td>\n",
       "      <td>303</td>\n",
       "    </tr>\n",
       "    <tr>\n",
       "      <th>4556725</th>\n",
       "      <td>2126333</td>\n",
       "      <td>16</td>\n",
       "      <td>2769</td>\n",
       "      <td>108</td>\n",
       "    </tr>\n",
       "    <tr>\n",
       "      <th>1559211</th>\n",
       "      <td>733643</td>\n",
       "      <td>16</td>\n",
       "      <td>403</td>\n",
       "      <td>201</td>\n",
       "    </tr>\n",
       "    <tr>\n",
       "      <th>2038593</th>\n",
       "      <td>956539</td>\n",
       "      <td>16</td>\n",
       "      <td>1624</td>\n",
       "      <td>209</td>\n",
       "    </tr>\n",
       "    <tr>\n",
       "      <th>3306958</th>\n",
       "      <td>1545413</td>\n",
       "      <td>16</td>\n",
       "      <td>1366</td>\n",
       "      <td>109</td>\n",
       "    </tr>\n",
       "    <tr>\n",
       "      <th>4934052</th>\n",
       "      <td>2302288</td>\n",
       "      <td>16</td>\n",
       "      <td>3543</td>\n",
       "      <td>105</td>\n",
       "    </tr>\n",
       "    <tr>\n",
       "      <th>391989</th>\n",
       "      <td>185951</td>\n",
       "      <td>16</td>\n",
       "      <td>769</td>\n",
       "      <td>503</td>\n",
       "    </tr>\n",
       "    <tr>\n",
       "      <th>4934051</th>\n",
       "      <td>2302288</td>\n",
       "      <td>16</td>\n",
       "      <td>3462</td>\n",
       "      <td>209</td>\n",
       "    </tr>\n",
       "    <tr>\n",
       "      <th>4934050</th>\n",
       "      <td>2302288</td>\n",
       "      <td>16</td>\n",
       "      <td>1402</td>\n",
       "      <td>105</td>\n",
       "    </tr>\n",
       "    <tr>\n",
       "      <th>341349</th>\n",
       "      <td>162017</td>\n",
       "      <td>16</td>\n",
       "      <td>581</td>\n",
       "      <td>503</td>\n",
       "    </tr>\n",
       "    <tr>\n",
       "      <th>1463338</th>\n",
       "      <td>687764</td>\n",
       "      <td>16</td>\n",
       "      <td>666</td>\n",
       "      <td>301</td>\n",
       "    </tr>\n",
       "    <tr>\n",
       "      <th>4221010</th>\n",
       "      <td>1969210</td>\n",
       "      <td>16</td>\n",
       "      <td>1060</td>\n",
       "      <td>503</td>\n",
       "    </tr>\n",
       "    <tr>\n",
       "      <th>3357131</th>\n",
       "      <td>1568184</td>\n",
       "      <td>16</td>\n",
       "      <td>537</td>\n",
       "      <td>408</td>\n",
       "    </tr>\n",
       "    <tr>\n",
       "      <th>1559210</th>\n",
       "      <td>733643</td>\n",
       "      <td>16</td>\n",
       "      <td>357</td>\n",
       "      <td>201</td>\n",
       "    </tr>\n",
       "    <tr>\n",
       "      <th>1285759</th>\n",
       "      <td>605176</td>\n",
       "      <td>16</td>\n",
       "      <td>5179</td>\n",
       "      <td>106</td>\n",
       "    </tr>\n",
       "    <tr>\n",
       "      <th>3203552</th>\n",
       "      <td>1498133</td>\n",
       "      <td>16</td>\n",
       "      <td>1851</td>\n",
       "      <td>402</td>\n",
       "    </tr>\n",
       "    <tr>\n",
       "      <th>2986905</th>\n",
       "      <td>1397769</td>\n",
       "      <td>16</td>\n",
       "      <td>695</td>\n",
       "      <td>403</td>\n",
       "    </tr>\n",
       "    <tr>\n",
       "      <th>...</th>\n",
       "      <td>...</td>\n",
       "      <td>...</td>\n",
       "      <td>...</td>\n",
       "      <td>...</td>\n",
       "    </tr>\n",
       "    <tr>\n",
       "      <th>1626041</th>\n",
       "      <td>764429</td>\n",
       "      <td>25</td>\n",
       "      <td>588</td>\n",
       "      <td>209</td>\n",
       "    </tr>\n",
       "    <tr>\n",
       "      <th>5106014</th>\n",
       "      <td>2383228</td>\n",
       "      <td>25</td>\n",
       "      <td>375</td>\n",
       "      <td>203</td>\n",
       "    </tr>\n",
       "    <tr>\n",
       "      <th>3042983</th>\n",
       "      <td>1424049</td>\n",
       "      <td>25</td>\n",
       "      <td>10024</td>\n",
       "      <td>105</td>\n",
       "    </tr>\n",
       "    <tr>\n",
       "      <th>250086</th>\n",
       "      <td>118429</td>\n",
       "      <td>25</td>\n",
       "      <td>24325</td>\n",
       "      <td>105</td>\n",
       "    </tr>\n",
       "    <tr>\n",
       "      <th>5042121</th>\n",
       "      <td>2353516</td>\n",
       "      <td>25</td>\n",
       "      <td>2521</td>\n",
       "      <td>104</td>\n",
       "    </tr>\n",
       "    <tr>\n",
       "      <th>2601325</th>\n",
       "      <td>1219218</td>\n",
       "      <td>25</td>\n",
       "      <td>43368</td>\n",
       "      <td>209</td>\n",
       "    </tr>\n",
       "    <tr>\n",
       "      <th>158419</th>\n",
       "      <td>75712</td>\n",
       "      <td>25</td>\n",
       "      <td>2725</td>\n",
       "      <td>407</td>\n",
       "    </tr>\n",
       "    <tr>\n",
       "      <th>3061761</th>\n",
       "      <td>1433084</td>\n",
       "      <td>25</td>\n",
       "      <td>375</td>\n",
       "      <td>203</td>\n",
       "    </tr>\n",
       "    <tr>\n",
       "      <th>5252005</th>\n",
       "      <td>2450922</td>\n",
       "      <td>25</td>\n",
       "      <td>1304</td>\n",
       "      <td>301</td>\n",
       "    </tr>\n",
       "    <tr>\n",
       "      <th>1826350</th>\n",
       "      <td>857363</td>\n",
       "      <td>25</td>\n",
       "      <td>1961</td>\n",
       "      <td>402</td>\n",
       "    </tr>\n",
       "    <tr>\n",
       "      <th>2039408</th>\n",
       "      <td>957015</td>\n",
       "      <td>25</td>\n",
       "      <td>608</td>\n",
       "      <td>110</td>\n",
       "    </tr>\n",
       "    <tr>\n",
       "      <th>5308667</th>\n",
       "      <td>2476568</td>\n",
       "      <td>25</td>\n",
       "      <td>3235</td>\n",
       "      <td>209</td>\n",
       "    </tr>\n",
       "    <tr>\n",
       "      <th>5106016</th>\n",
       "      <td>2383228</td>\n",
       "      <td>25</td>\n",
       "      <td>1164</td>\n",
       "      <td>209</td>\n",
       "    </tr>\n",
       "    <tr>\n",
       "      <th>2386140</th>\n",
       "      <td>1118834</td>\n",
       "      <td>25</td>\n",
       "      <td>1222</td>\n",
       "      <td>209</td>\n",
       "    </tr>\n",
       "    <tr>\n",
       "      <th>4457667</th>\n",
       "      <td>2079086</td>\n",
       "      <td>25</td>\n",
       "      <td>957</td>\n",
       "      <td>109</td>\n",
       "    </tr>\n",
       "    <tr>\n",
       "      <th>1131042</th>\n",
       "      <td>533631</td>\n",
       "      <td>25</td>\n",
       "      <td>596</td>\n",
       "      <td>106</td>\n",
       "    </tr>\n",
       "    <tr>\n",
       "      <th>4811462</th>\n",
       "      <td>2245059</td>\n",
       "      <td>25</td>\n",
       "      <td>2350</td>\n",
       "      <td>209</td>\n",
       "    </tr>\n",
       "    <tr>\n",
       "      <th>1852383</th>\n",
       "      <td>870029</td>\n",
       "      <td>25</td>\n",
       "      <td>5343</td>\n",
       "      <td>211</td>\n",
       "    </tr>\n",
       "    <tr>\n",
       "      <th>4811461</th>\n",
       "      <td>2245059</td>\n",
       "      <td>25</td>\n",
       "      <td>536</td>\n",
       "      <td>104</td>\n",
       "    </tr>\n",
       "    <tr>\n",
       "      <th>5106015</th>\n",
       "      <td>2383228</td>\n",
       "      <td>25</td>\n",
       "      <td>1050</td>\n",
       "      <td>203</td>\n",
       "    </tr>\n",
       "    <tr>\n",
       "      <th>1721475</th>\n",
       "      <td>808388</td>\n",
       "      <td>25</td>\n",
       "      <td>564</td>\n",
       "      <td>203</td>\n",
       "    </tr>\n",
       "    <tr>\n",
       "      <th>741232</th>\n",
       "      <td>349720</td>\n",
       "      <td>25</td>\n",
       "      <td>11241</td>\n",
       "      <td>106</td>\n",
       "    </tr>\n",
       "    <tr>\n",
       "      <th>5849428</th>\n",
       "      <td>2732898</td>\n",
       "      <td>25</td>\n",
       "      <td>716</td>\n",
       "      <td>503</td>\n",
       "    </tr>\n",
       "    <tr>\n",
       "      <th>307051</th>\n",
       "      <td>145319</td>\n",
       "      <td>25</td>\n",
       "      <td>536</td>\n",
       "      <td>104</td>\n",
       "    </tr>\n",
       "    <tr>\n",
       "      <th>2967353</th>\n",
       "      <td>1388612</td>\n",
       "      <td>25</td>\n",
       "      <td>666</td>\n",
       "      <td>301</td>\n",
       "    </tr>\n",
       "    <tr>\n",
       "      <th>112354</th>\n",
       "      <td>54037</td>\n",
       "      <td>25</td>\n",
       "      <td>4517</td>\n",
       "      <td>503</td>\n",
       "    </tr>\n",
       "    <tr>\n",
       "      <th>4582927</th>\n",
       "      <td>2138239</td>\n",
       "      <td>25</td>\n",
       "      <td>630</td>\n",
       "      <td>405</td>\n",
       "    </tr>\n",
       "    <tr>\n",
       "      <th>2689292</th>\n",
       "      <td>1259399</td>\n",
       "      <td>25</td>\n",
       "      <td>711</td>\n",
       "      <td>209</td>\n",
       "    </tr>\n",
       "    <tr>\n",
       "      <th>2902534</th>\n",
       "      <td>1358682</td>\n",
       "      <td>25</td>\n",
       "      <td>608</td>\n",
       "      <td>110</td>\n",
       "    </tr>\n",
       "    <tr>\n",
       "      <th>1155991</th>\n",
       "      <td>545048</td>\n",
       "      <td>25</td>\n",
       "      <td>365</td>\n",
       "      <td>301</td>\n",
       "    </tr>\n",
       "  </tbody>\n",
       "</table>\n",
       "<p>1715476 rows × 4 columns</p>\n",
       "</div>"
      ],
      "text/plain": [
       "          userID  installTime  appID  appCategory\n",
       "507748    241777           16    377          407\n",
       "88648      42384           16    565          203\n",
       "88649      42384           16  11388          203\n",
       "4711454  2197744           16    403          201\n",
       "4717161  2200471           16    430          104\n",
       "1584114   745365           16    708          401\n",
       "3203550  1498133           16   1430          209\n",
       "3203551  1498133           16   1716          402\n",
       "1061594   501235           16   4863          106\n",
       "5450808  2545198           16    409          405\n",
       "1760725   826756           16   1029          106\n",
       "2892157  1354234           16   8739          203\n",
       "4934049  2302288           16    725          106\n",
       "2227125  1044513           16  90804          303\n",
       "4556725  2126333           16   2769          108\n",
       "1559211   733643           16    403          201\n",
       "2038593   956539           16   1624          209\n",
       "3306958  1545413           16   1366          109\n",
       "4934052  2302288           16   3543          105\n",
       "391989    185951           16    769          503\n",
       "4934051  2302288           16   3462          209\n",
       "4934050  2302288           16   1402          105\n",
       "341349    162017           16    581          503\n",
       "1463338   687764           16    666          301\n",
       "4221010  1969210           16   1060          503\n",
       "3357131  1568184           16    537          408\n",
       "1559210   733643           16    357          201\n",
       "1285759   605176           16   5179          106\n",
       "3203552  1498133           16   1851          402\n",
       "2986905  1397769           16    695          403\n",
       "...          ...          ...    ...          ...\n",
       "1626041   764429           25    588          209\n",
       "5106014  2383228           25    375          203\n",
       "3042983  1424049           25  10024          105\n",
       "250086    118429           25  24325          105\n",
       "5042121  2353516           25   2521          104\n",
       "2601325  1219218           25  43368          209\n",
       "158419     75712           25   2725          407\n",
       "3061761  1433084           25    375          203\n",
       "5252005  2450922           25   1304          301\n",
       "1826350   857363           25   1961          402\n",
       "2039408   957015           25    608          110\n",
       "5308667  2476568           25   3235          209\n",
       "5106016  2383228           25   1164          209\n",
       "2386140  1118834           25   1222          209\n",
       "4457667  2079086           25    957          109\n",
       "1131042   533631           25    596          106\n",
       "4811462  2245059           25   2350          209\n",
       "1852383   870029           25   5343          211\n",
       "4811461  2245059           25    536          104\n",
       "5106015  2383228           25   1050          203\n",
       "1721475   808388           25    564          203\n",
       "741232    349720           25  11241          106\n",
       "5849428  2732898           25    716          503\n",
       "307051    145319           25    536          104\n",
       "2967353  1388612           25    666          301\n",
       "112354     54037           25   4517          503\n",
       "4582927  2138239           25    630          405\n",
       "2689292  1259399           25    711          209\n",
       "2902534  1358682           25    608          110\n",
       "1155991   545048           25    365          301\n",
       "\n",
       "[1715476 rows x 4 columns]"
      ]
     },
     "execution_count": 72,
     "metadata": {},
     "output_type": "execute_result"
    }
   ],
   "source": [
    "app_action_af16"
   ]
  },
  {
   "cell_type": "code",
   "execution_count": 86,
   "metadata": {
    "collapsed": true
   },
   "outputs": [],
   "source": [
    "result['clickTime']=(result['clickTime']/10000).astype('int')"
   ]
  },
  {
   "cell_type": "code",
   "execution_count": 87,
   "metadata": {
    "collapsed": false
   },
   "outputs": [],
   "source": [
    "result=result.drop(['Unnamed: 0'],axis=1)"
   ]
  },
  {
   "cell_type": "code",
   "execution_count": 88,
   "metadata": {
    "collapsed": true
   },
   "outputs": [],
   "source": [
    "result=result.sort_values(by='clickTime')"
   ]
  },
  {
   "cell_type": "code",
   "execution_count": 89,
   "metadata": {
    "collapsed": false
   },
   "outputs": [
    {
     "data": {
      "text/html": [
       "<div>\n",
       "<table border=\"1\" class=\"dataframe\">\n",
       "  <thead>\n",
       "    <tr style=\"text-align: right;\">\n",
       "      <th></th>\n",
       "      <th>label</th>\n",
       "      <th>clickTime</th>\n",
       "      <th>conversionTime</th>\n",
       "      <th>creativeID</th>\n",
       "      <th>userID</th>\n",
       "      <th>positionID</th>\n",
       "      <th>connectionType</th>\n",
       "      <th>telecomsOperator</th>\n",
       "      <th>age</th>\n",
       "      <th>gender</th>\n",
       "      <th>...</th>\n",
       "      <th>action_303</th>\n",
       "      <th>action_211</th>\n",
       "      <th>action_103</th>\n",
       "      <th>action_1</th>\n",
       "      <th>adID</th>\n",
       "      <th>camgaignID</th>\n",
       "      <th>advertiserID</th>\n",
       "      <th>appID</th>\n",
       "      <th>appPlatform</th>\n",
       "      <th>appCategory</th>\n",
       "    </tr>\n",
       "  </thead>\n",
       "  <tbody>\n",
       "    <tr>\n",
       "      <th>26379</th>\n",
       "      <td>0</td>\n",
       "      <td>17</td>\n",
       "      <td>0.0</td>\n",
       "      <td>2137</td>\n",
       "      <td>1061753</td>\n",
       "      <td>2579</td>\n",
       "      <td>1</td>\n",
       "      <td>1</td>\n",
       "      <td>30</td>\n",
       "      <td>1</td>\n",
       "      <td>...</td>\n",
       "      <td>0.0</td>\n",
       "      <td>0.0</td>\n",
       "      <td>0.0</td>\n",
       "      <td>0.0</td>\n",
       "      <td>2148</td>\n",
       "      <td>179</td>\n",
       "      <td>84</td>\n",
       "      <td>360</td>\n",
       "      <td>1</td>\n",
       "      <td>201</td>\n",
       "    </tr>\n",
       "    <tr>\n",
       "      <th>235795</th>\n",
       "      <td>0</td>\n",
       "      <td>17</td>\n",
       "      <td>0.0</td>\n",
       "      <td>3465</td>\n",
       "      <td>2561367</td>\n",
       "      <td>103</td>\n",
       "      <td>1</td>\n",
       "      <td>1</td>\n",
       "      <td>48</td>\n",
       "      <td>1</td>\n",
       "      <td>...</td>\n",
       "      <td>0.0</td>\n",
       "      <td>1.0</td>\n",
       "      <td>0.0</td>\n",
       "      <td>0.0</td>\n",
       "      <td>86</td>\n",
       "      <td>503</td>\n",
       "      <td>3</td>\n",
       "      <td>465</td>\n",
       "      <td>1</td>\n",
       "      <td>209</td>\n",
       "    </tr>\n",
       "    <tr>\n",
       "      <th>276185</th>\n",
       "      <td>0</td>\n",
       "      <td>17</td>\n",
       "      <td>0.0</td>\n",
       "      <td>2122</td>\n",
       "      <td>2649974</td>\n",
       "      <td>1848</td>\n",
       "      <td>2</td>\n",
       "      <td>3</td>\n",
       "      <td>15</td>\n",
       "      <td>1</td>\n",
       "      <td>...</td>\n",
       "      <td>0.0</td>\n",
       "      <td>0.0</td>\n",
       "      <td>0.0</td>\n",
       "      <td>0.0</td>\n",
       "      <td>677</td>\n",
       "      <td>643</td>\n",
       "      <td>3</td>\n",
       "      <td>465</td>\n",
       "      <td>1</td>\n",
       "      <td>209</td>\n",
       "    </tr>\n",
       "    <tr>\n",
       "      <th>187835</th>\n",
       "      <td>0</td>\n",
       "      <td>17</td>\n",
       "      <td>0.0</td>\n",
       "      <td>3069</td>\n",
       "      <td>2312392</td>\n",
       "      <td>675</td>\n",
       "      <td>1</td>\n",
       "      <td>2</td>\n",
       "      <td>23</td>\n",
       "      <td>1</td>\n",
       "      <td>...</td>\n",
       "      <td>0.0</td>\n",
       "      <td>0.0</td>\n",
       "      <td>0.0</td>\n",
       "      <td>0.0</td>\n",
       "      <td>1935</td>\n",
       "      <td>221</td>\n",
       "      <td>2</td>\n",
       "      <td>198</td>\n",
       "      <td>2</td>\n",
       "      <td>104</td>\n",
       "    </tr>\n",
       "    <tr>\n",
       "      <th>81033</th>\n",
       "      <td>0</td>\n",
       "      <td>17</td>\n",
       "      <td>0.0</td>\n",
       "      <td>6440</td>\n",
       "      <td>106168</td>\n",
       "      <td>4954</td>\n",
       "      <td>2</td>\n",
       "      <td>1</td>\n",
       "      <td>20</td>\n",
       "      <td>1</td>\n",
       "      <td>...</td>\n",
       "      <td>0.0</td>\n",
       "      <td>0.0</td>\n",
       "      <td>0.0</td>\n",
       "      <td>0.0</td>\n",
       "      <td>3379</td>\n",
       "      <td>411</td>\n",
       "      <td>3</td>\n",
       "      <td>465</td>\n",
       "      <td>1</td>\n",
       "      <td>209</td>\n",
       "    </tr>\n",
       "  </tbody>\n",
       "</table>\n",
       "<p>5 rows × 75 columns</p>\n",
       "</div>"
      ],
      "text/plain": [
       "        label  clickTime  conversionTime  creativeID   userID  positionID  \\\n",
       "26379       0         17             0.0        2137  1061753        2579   \n",
       "235795      0         17             0.0        3465  2561367         103   \n",
       "276185      0         17             0.0        2122  2649974        1848   \n",
       "187835      0         17             0.0        3069  2312392         675   \n",
       "81033       0         17             0.0        6440   106168        4954   \n",
       "\n",
       "        connectionType  telecomsOperator  age  gender     ...       \\\n",
       "26379                1                 1   30       1     ...        \n",
       "235795               1                 1   48       1     ...        \n",
       "276185               2                 3   15       1     ...        \n",
       "187835               1                 2   23       1     ...        \n",
       "81033                2                 1   20       1     ...        \n",
       "\n",
       "        action_303  action_211  action_103  action_1  adID  camgaignID  \\\n",
       "26379          0.0         0.0         0.0       0.0  2148         179   \n",
       "235795         0.0         1.0         0.0       0.0    86         503   \n",
       "276185         0.0         0.0         0.0       0.0   677         643   \n",
       "187835         0.0         0.0         0.0       0.0  1935         221   \n",
       "81033          0.0         0.0         0.0       0.0  3379         411   \n",
       "\n",
       "        advertiserID  appID  appPlatform  appCategory  \n",
       "26379             84    360            1          201  \n",
       "235795             3    465            1          209  \n",
       "276185             3    465            1          209  \n",
       "187835             2    198            2          104  \n",
       "81033              3    465            1          209  \n",
       "\n",
       "[5 rows x 75 columns]"
      ]
     },
     "execution_count": 89,
     "metadata": {},
     "output_type": "execute_result"
    }
   ],
   "source": [
    "result.head()"
   ]
  },
  {
   "cell_type": "code",
   "execution_count": 78,
   "metadata": {
    "collapsed": true
   },
   "outputs": [],
   "source": [
    "app_action_af16=app_action_af16.reset_index().drop(['index'],axis=1)"
   ]
  },
  {
   "cell_type": "code",
   "execution_count": 90,
   "metadata": {
    "collapsed": false
   },
   "outputs": [
    {
     "name": "stdout",
     "output_type": "stream",
     "text": [
      "0 0\n",
      "10000 331\n",
      "20000 20274\n",
      "30000 21390\n",
      "40000 21726\n",
      "50000 22081\n",
      "60000 22404\n",
      "70000 22725\n",
      "80000 23042\n",
      "90000 23363\n",
      "100000 23683\n",
      "110000 24002\n",
      "120000 24325\n",
      "130000 24643\n",
      "140000 24960\n",
      "150000 25278\n",
      "160000 25595\n",
      "170000 25914\n",
      "180000 26232\n",
      "190000 26549\n",
      "200000 26872\n",
      "210000 27196\n",
      "220000 27524\n",
      "230000 27840\n",
      "240000 28160\n",
      "250000 28482\n",
      "260000 28804\n",
      "270000 29128\n",
      "280000 29463\n",
      "290000 29789\n",
      "300000 30109\n",
      "310000 30428\n",
      "320000 30751\n",
      "330000 31069\n",
      "340000 31386\n",
      "350000 31704\n",
      "360000 32039\n",
      "370000 32370\n",
      "380000 32694\n",
      "390000 33012\n",
      "400000 33329\n",
      "410000 33645\n",
      "420000 33962\n",
      "430000 34278\n",
      "440000 34595\n",
      "450000 34911\n",
      "460000 35228\n",
      "470000 35545\n",
      "480000 35862\n",
      "490000 36178\n",
      "500000 36495\n",
      "510000 36812\n",
      "520000 37129\n",
      "530000 37447\n",
      "540000 37764\n",
      "550000 38081\n",
      "560000 38398\n",
      "570000 38714\n",
      "580000 39031\n",
      "590000 39347\n",
      "600000 39664\n",
      "610000 39981\n",
      "620000 40297\n",
      "630000 40614\n",
      "640000 40930\n",
      "650000 41246\n",
      "660000 41562\n",
      "670000 41878\n",
      "680000 42195\n",
      "690000 42512\n",
      "700000 42829\n",
      "710000 43146\n",
      "720000 43462\n",
      "730000 43779\n",
      "740000 44096\n",
      "750000 44414\n",
      "760000 44731\n",
      "770000 45048\n",
      "780000 45364\n",
      "790000 45681\n",
      "800000 45998\n",
      "810000 46315\n",
      "820000 46633\n",
      "830000 46950\n",
      "840000 47266\n",
      "850000 47581\n",
      "860000 47897\n",
      "870000 48213\n",
      "880000 48528\n",
      "890000 48845\n",
      "900000 49161\n",
      "910000 49477\n",
      "920000 49793\n",
      "930000 50110\n",
      "940000 50427\n",
      "950000 50743\n",
      "960000 51060\n",
      "970000 51376\n",
      "980000 51692\n",
      "990000 52008\n",
      "1000000 52324\n",
      "1010000 52640\n",
      "1020000 52955\n",
      "1030000 53271\n",
      "1040000 53587\n",
      "1050000 53904\n",
      "1060000 54219\n",
      "1070000 54535\n",
      "1080000 54850\n",
      "1090000 55166\n",
      "1100000 55482\n",
      "1110000 55798\n",
      "1120000 56115\n",
      "1130000 56431\n",
      "1140000 56746\n",
      "1150000 57062\n",
      "1160000 57379\n",
      "1170000 57695\n",
      "1180000 58011\n",
      "1190000 58327\n",
      "1200000 58643\n",
      "1210000 58959\n",
      "1220000 59274\n",
      "1230000 59589\n",
      "1240000 59905\n",
      "1250000 60220\n",
      "1260000 60536\n",
      "1270000 60851\n",
      "1280000 61167\n",
      "1290000 61481\n",
      "1300000 61797\n",
      "1310000 62112\n",
      "1320000 62428\n",
      "1330000 62744\n",
      "1340000 63060\n",
      "1350000 63375\n",
      "1360000 63691\n",
      "1370000 64007\n",
      "1380000 64323\n",
      "1390000 64638\n",
      "1400000 64954\n",
      "1410000 65270\n",
      "1420000 65585\n",
      "1430000 65900\n",
      "1440000 66216\n",
      "1450000 66531\n",
      "1460000 66846\n",
      "1470000 67161\n",
      "1480000 67477\n",
      "1490000 67792\n",
      "1500000 68107\n",
      "1510000 68423\n",
      "1520000 68739\n",
      "1530000 69054\n",
      "1540000 69369\n",
      "1550000 69684\n",
      "1560000 70001\n",
      "1570000 70316\n",
      "1580000 70631\n",
      "1590000 70946\n",
      "1600000 71262\n",
      "1610000 71578\n",
      "1620000 71896\n",
      "1630000 72205\n",
      "1640000 72514\n",
      "1650000 72823\n",
      "1660000 73195\n",
      "1670000 73543\n",
      "1680000 73925\n",
      "1690000 74240\n",
      "1700000 74549\n",
      "1710000 74873\n"
     ]
    }
   ],
   "source": [
    "import datetime\n",
    "start_time=datetime.datetime.now()\n",
    "for i in app_action_af16.index:\n",
    "    user=app_action_af16.ix[i,'userID']\n",
    "    install=app_action_af16.ix[i,'installTime']\n",
    "    cat='action_'+str(app_action_af16.ix[i,'appCategory'])\n",
    "    result.ix[(result['userID']==user)&(result['clickTime']>install),cat]+=1\n",
    "    end_time=datetime.datetime.now()\n",
    "    if(i%10000==0):\n",
    "        print(i,(end_time-start_time).seconds)"
   ]
  },
  {
   "cell_type": "code",
   "execution_count": 93,
   "metadata": {
    "collapsed": false
   },
   "outputs": [],
   "source": [
    "result.to_csv('/Users/zhangzhihao/Desktop/Tencent/train2/before_one_hot.1.0.csv')"
   ]
  },
  {
   "cell_type": "code",
   "execution_count": 94,
   "metadata": {
    "collapsed": false
   },
   "outputs": [],
   "source": [
    "train_set=result.drop(['clickTime','conversionTime'],axis=1)"
   ]
  },
  {
   "cell_type": "code",
   "execution_count": 102,
   "metadata": {
    "collapsed": false
   },
   "outputs": [
    {
     "data": {
      "text/html": [
       "<div>\n",
       "<table border=\"1\" class=\"dataframe\">\n",
       "  <thead>\n",
       "    <tr style=\"text-align: right;\">\n",
       "      <th></th>\n",
       "      <th>label</th>\n",
       "      <th>creativeID</th>\n",
       "      <th>userID</th>\n",
       "      <th>positionID</th>\n",
       "      <th>connectionType</th>\n",
       "      <th>telecomsOperator</th>\n",
       "      <th>age</th>\n",
       "      <th>gender</th>\n",
       "      <th>education</th>\n",
       "      <th>marriageStatus</th>\n",
       "      <th>...</th>\n",
       "      <th>action_303</th>\n",
       "      <th>action_211</th>\n",
       "      <th>action_103</th>\n",
       "      <th>action_1</th>\n",
       "      <th>adID</th>\n",
       "      <th>camgaignID</th>\n",
       "      <th>advertiserID</th>\n",
       "      <th>appID</th>\n",
       "      <th>appPlatform</th>\n",
       "      <th>appCategory</th>\n",
       "    </tr>\n",
       "  </thead>\n",
       "  <tbody>\n",
       "    <tr>\n",
       "      <th>2006170</th>\n",
       "      <td>0</td>\n",
       "      <td>6213</td>\n",
       "      <td>72292</td>\n",
       "      <td>675</td>\n",
       "      <td>1</td>\n",
       "      <td>1</td>\n",
       "      <td>17</td>\n",
       "      <td>1</td>\n",
       "      <td>2</td>\n",
       "      <td>1</td>\n",
       "      <td>...</td>\n",
       "      <td>0.0</td>\n",
       "      <td>0.0</td>\n",
       "      <td>0.0</td>\n",
       "      <td>0.0</td>\n",
       "      <td>2376</td>\n",
       "      <td>568</td>\n",
       "      <td>2</td>\n",
       "      <td>319</td>\n",
       "      <td>2</td>\n",
       "      <td>104</td>\n",
       "    </tr>\n",
       "    <tr>\n",
       "      <th>1397563</th>\n",
       "      <td>0</td>\n",
       "      <td>6241</td>\n",
       "      <td>2236724</td>\n",
       "      <td>1343</td>\n",
       "      <td>2</td>\n",
       "      <td>1</td>\n",
       "      <td>21</td>\n",
       "      <td>1</td>\n",
       "      <td>1</td>\n",
       "      <td>1</td>\n",
       "      <td>...</td>\n",
       "      <td>0.0</td>\n",
       "      <td>0.0</td>\n",
       "      <td>0.0</td>\n",
       "      <td>0.0</td>\n",
       "      <td>3593</td>\n",
       "      <td>632</td>\n",
       "      <td>3</td>\n",
       "      <td>465</td>\n",
       "      <td>1</td>\n",
       "      <td>209</td>\n",
       "    </tr>\n",
       "    <tr>\n",
       "      <th>2264643</th>\n",
       "      <td>1</td>\n",
       "      <td>4250</td>\n",
       "      <td>2169754</td>\n",
       "      <td>3269</td>\n",
       "      <td>1</td>\n",
       "      <td>2</td>\n",
       "      <td>14</td>\n",
       "      <td>1</td>\n",
       "      <td>1</td>\n",
       "      <td>2</td>\n",
       "      <td>...</td>\n",
       "      <td>0.0</td>\n",
       "      <td>0.0</td>\n",
       "      <td>0.0</td>\n",
       "      <td>0.0</td>\n",
       "      <td>1638</td>\n",
       "      <td>440</td>\n",
       "      <td>3</td>\n",
       "      <td>465</td>\n",
       "      <td>1</td>\n",
       "      <td>209</td>\n",
       "    </tr>\n",
       "    <tr>\n",
       "      <th>1250789</th>\n",
       "      <td>0</td>\n",
       "      <td>3075</td>\n",
       "      <td>1887158</td>\n",
       "      <td>4122</td>\n",
       "      <td>2</td>\n",
       "      <td>1</td>\n",
       "      <td>37</td>\n",
       "      <td>1</td>\n",
       "      <td>1</td>\n",
       "      <td>2</td>\n",
       "      <td>...</td>\n",
       "      <td>0.0</td>\n",
       "      <td>0.0</td>\n",
       "      <td>0.0</td>\n",
       "      <td>0.0</td>\n",
       "      <td>2318</td>\n",
       "      <td>147</td>\n",
       "      <td>80</td>\n",
       "      <td>14</td>\n",
       "      <td>2</td>\n",
       "      <td>2</td>\n",
       "    </tr>\n",
       "    <tr>\n",
       "      <th>908969</th>\n",
       "      <td>0</td>\n",
       "      <td>6241</td>\n",
       "      <td>1283717</td>\n",
       "      <td>4993</td>\n",
       "      <td>1</td>\n",
       "      <td>1</td>\n",
       "      <td>12</td>\n",
       "      <td>1</td>\n",
       "      <td>1</td>\n",
       "      <td>2</td>\n",
       "      <td>...</td>\n",
       "      <td>0.0</td>\n",
       "      <td>0.0</td>\n",
       "      <td>0.0</td>\n",
       "      <td>0.0</td>\n",
       "      <td>3593</td>\n",
       "      <td>632</td>\n",
       "      <td>3</td>\n",
       "      <td>465</td>\n",
       "      <td>1</td>\n",
       "      <td>209</td>\n",
       "    </tr>\n",
       "  </tbody>\n",
       "</table>\n",
       "<p>5 rows × 73 columns</p>\n",
       "</div>"
      ],
      "text/plain": [
       "         label  creativeID   userID  positionID  connectionType  \\\n",
       "2006170      0        6213    72292         675               1   \n",
       "1397563      0        6241  2236724        1343               2   \n",
       "2264643      1        4250  2169754        3269               1   \n",
       "1250789      0        3075  1887158        4122               2   \n",
       "908969       0        6241  1283717        4993               1   \n",
       "\n",
       "         telecomsOperator  age  gender  education  marriageStatus  \\\n",
       "2006170                 1   17       1          2               1   \n",
       "1397563                 1   21       1          1               1   \n",
       "2264643                 2   14       1          1               2   \n",
       "1250789                 1   37       1          1               2   \n",
       "908969                  1   12       1          1               2   \n",
       "\n",
       "            ...       action_303  action_211  action_103  action_1  adID  \\\n",
       "2006170     ...              0.0         0.0         0.0       0.0  2376   \n",
       "1397563     ...              0.0         0.0         0.0       0.0  3593   \n",
       "2264643     ...              0.0         0.0         0.0       0.0  1638   \n",
       "1250789     ...              0.0         0.0         0.0       0.0  2318   \n",
       "908969      ...              0.0         0.0         0.0       0.0  3593   \n",
       "\n",
       "         camgaignID  advertiserID  appID  appPlatform  appCategory  \n",
       "2006170         568             2    319            2          104  \n",
       "1397563         632             3    465            1          209  \n",
       "2264643         440             3    465            1          209  \n",
       "1250789         147            80     14            2            2  \n",
       "908969          632             3    465            1          209  \n",
       "\n",
       "[5 rows x 73 columns]"
      ]
     },
     "execution_count": 102,
     "metadata": {},
     "output_type": "execute_result"
    }
   ],
   "source": [
    "train_set.head()"
   ]
  },
  {
   "cell_type": "code",
   "execution_count": 141,
   "metadata": {
    "collapsed": false
   },
   "outputs": [
    {
     "name": "stdout",
     "output_type": "stream",
     "text": [
      "[0]\ttrain-logloss:0.612466\tval-logloss:0.612439\n",
      "[1]\ttrain-logloss:0.546539\tval-logloss:0.546488\n",
      "[2]\ttrain-logloss:0.491822\tval-logloss:0.491747\n",
      "[3]\ttrain-logloss:0.445847\tval-logloss:0.44575\n",
      "[4]\ttrain-logloss:0.406863\tval-logloss:0.406736\n",
      "[5]\ttrain-logloss:0.373567\tval-logloss:0.373423\n",
      "[6]\ttrain-logloss:0.345098\tval-logloss:0.344936\n",
      "[7]\ttrain-logloss:0.32049\tval-logloss:0.320315\n",
      "[8]\ttrain-logloss:0.299274\tval-logloss:0.299075\n",
      "[9]\ttrain-logloss:0.280853\tval-logloss:0.280645\n",
      "[10]\ttrain-logloss:0.264922\tval-logloss:0.26469\n",
      "[11]\ttrain-logloss:0.250995\tval-logloss:0.250748\n",
      "[12]\ttrain-logloss:0.238875\tval-logloss:0.238615\n",
      "[13]\ttrain-logloss:0.228321\tval-logloss:0.228051\n",
      "[14]\ttrain-logloss:0.219142\tval-logloss:0.218865\n",
      "[15]\ttrain-logloss:0.211112\tval-logloss:0.210839\n",
      "[16]\ttrain-logloss:0.204117\tval-logloss:0.20385\n",
      "[17]\ttrain-logloss:0.198016\tval-logloss:0.197752\n",
      "[18]\ttrain-logloss:0.19261\tval-logloss:0.192372\n",
      "[19]\ttrain-logloss:0.187969\tval-logloss:0.187741\n",
      "[20]\ttrain-logloss:0.183785\tval-logloss:0.183584\n",
      "[21]\ttrain-logloss:0.180084\tval-logloss:0.179917\n",
      "[22]\ttrain-logloss:0.176866\tval-logloss:0.17672\n",
      "[23]\ttrain-logloss:0.174064\tval-logloss:0.173963\n",
      "[24]\ttrain-logloss:0.171424\tval-logloss:0.171366\n",
      "[25]\ttrain-logloss:0.169315\tval-logloss:0.16931\n",
      "[26]\ttrain-logloss:0.167363\tval-logloss:0.167429\n",
      "[27]\ttrain-logloss:0.16557\tval-logloss:0.165692\n",
      "[28]\ttrain-logloss:0.164168\tval-logloss:0.164343\n",
      "[29]\ttrain-logloss:0.162942\tval-logloss:0.163198\n",
      "[30]\ttrain-logloss:0.161884\tval-logloss:0.162212\n",
      "[31]\ttrain-logloss:0.1607\tval-logloss:0.161091\n",
      "[32]\ttrain-logloss:0.15987\tval-logloss:0.160339\n",
      "[33]\ttrain-logloss:0.159079\tval-logloss:0.159638\n",
      "[34]\ttrain-logloss:0.158434\tval-logloss:0.159087\n",
      "[35]\ttrain-logloss:0.157837\tval-logloss:0.158586\n",
      "[36]\ttrain-logloss:0.157274\tval-logloss:0.158098\n",
      "[37]\ttrain-logloss:0.156795\tval-logloss:0.157721\n",
      "[38]\ttrain-logloss:0.15629\tval-logloss:0.157319\n",
      "[39]\ttrain-logloss:0.155835\tval-logloss:0.156963\n",
      "[40]\ttrain-logloss:0.155455\tval-logloss:0.156694\n",
      "[41]\ttrain-logloss:0.154906\tval-logloss:0.156204\n",
      "[42]\ttrain-logloss:0.154594\tval-logloss:0.156014\n",
      "[43]\ttrain-logloss:0.154254\tval-logloss:0.155783\n",
      "[44]\ttrain-logloss:0.153954\tval-logloss:0.155584\n",
      "[45]\ttrain-logloss:0.153726\tval-logloss:0.155397\n",
      "[46]\ttrain-logloss:0.15355\tval-logloss:0.155234\n",
      "[47]\ttrain-logloss:0.153385\tval-logloss:0.155103\n",
      "[48]\ttrain-logloss:0.153234\tval-logloss:0.154973\n",
      "[49]\ttrain-logloss:0.153098\tval-logloss:0.154866\n",
      "[50]\ttrain-logloss:0.152968\tval-logloss:0.154754\n",
      "[51]\ttrain-logloss:0.152768\tval-logloss:0.154629\n",
      "[52]\ttrain-logloss:0.152531\tval-logloss:0.154512\n",
      "[53]\ttrain-logloss:0.152374\tval-logloss:0.154426\n",
      "[54]\ttrain-logloss:0.152286\tval-logloss:0.154352\n",
      "[55]\ttrain-logloss:0.152073\tval-logloss:0.154174\n",
      "[56]\ttrain-logloss:0.151917\tval-logloss:0.15409\n",
      "[57]\ttrain-logloss:0.151739\tval-logloss:0.153943\n",
      "[58]\ttrain-logloss:0.151591\tval-logloss:0.153867\n",
      "[59]\ttrain-logloss:0.15149\tval-logloss:0.153786\n",
      "[60]\ttrain-logloss:0.151304\tval-logloss:0.153687\n",
      "[61]\ttrain-logloss:0.151228\tval-logloss:0.153641\n",
      "[62]\ttrain-logloss:0.151165\tval-logloss:0.153589\n",
      "[63]\ttrain-logloss:0.15102\tval-logloss:0.153527\n",
      "[64]\ttrain-logloss:0.150932\tval-logloss:0.153462\n",
      "[65]\ttrain-logloss:0.150816\tval-logloss:0.153416\n",
      "[66]\ttrain-logloss:0.150762\tval-logloss:0.153381\n",
      "[67]\ttrain-logloss:0.150705\tval-logloss:0.153343\n",
      "[68]\ttrain-logloss:0.150657\tval-logloss:0.153313\n",
      "[69]\ttrain-logloss:0.150502\tval-logloss:0.153243\n"
     ]
    },
    {
     "ename": "KeyboardInterrupt",
     "evalue": "",
     "output_type": "error",
     "traceback": [
      "\u001b[0;31m---------------------------------------------------------------------------\u001b[0m",
      "\u001b[0;31mKeyboardInterrupt\u001b[0m                         Traceback (most recent call last)",
      "\u001b[0;32m<ipython-input-141-ad6ff66315ad>\u001b[0m in \u001b[0;36m<module>\u001b[0;34m()\u001b[0m\n\u001b[1;32m     19\u001b[0m \u001b[0mdval\u001b[0m\u001b[0;34m=\u001b[0m\u001b[0mxgb\u001b[0m\u001b[0;34m.\u001b[0m\u001b[0mDMatrix\u001b[0m\u001b[0;34m(\u001b[0m\u001b[0mdata\u001b[0m\u001b[0;34m=\u001b[0m\u001b[0mcv_train\u001b[0m\u001b[0;34m,\u001b[0m\u001b[0mlabel\u001b[0m\u001b[0;34m=\u001b[0m\u001b[0mcv_label\u001b[0m\u001b[0;34m)\u001b[0m\u001b[0;34m\u001b[0m\u001b[0m\n\u001b[1;32m     20\u001b[0m \u001b[0mwatchlist\u001b[0m\u001b[0;34m=\u001b[0m\u001b[0;34m[\u001b[0m\u001b[0;34m(\u001b[0m\u001b[0mdtrain\u001b[0m\u001b[0;34m,\u001b[0m\u001b[0;34m'train'\u001b[0m\u001b[0;34m)\u001b[0m\u001b[0;34m,\u001b[0m\u001b[0;34m(\u001b[0m\u001b[0mdval\u001b[0m\u001b[0;34m,\u001b[0m\u001b[0;34m'val'\u001b[0m\u001b[0;34m)\u001b[0m\u001b[0;34m]\u001b[0m\u001b[0;34m\u001b[0m\u001b[0m\n\u001b[0;32m---> 21\u001b[0;31m \u001b[0mbst\u001b[0m\u001b[0;34m=\u001b[0m\u001b[0mxgb\u001b[0m\u001b[0;34m.\u001b[0m\u001b[0mtrain\u001b[0m\u001b[0;34m(\u001b[0m\u001b[0mparams\u001b[0m\u001b[0;34m,\u001b[0m\u001b[0mdtrain\u001b[0m\u001b[0;34m,\u001b[0m\u001b[0;36m100\u001b[0m\u001b[0;34m,\u001b[0m\u001b[0mevals\u001b[0m\u001b[0;34m=\u001b[0m\u001b[0mwatchlist\u001b[0m\u001b[0;34m)\u001b[0m\u001b[0;34m\u001b[0m\u001b[0m\n\u001b[0m",
      "\u001b[0;32m/Users/zhangzhihao/anaconda3/lib/python3.6/site-packages/xgboost/training.py\u001b[0m in \u001b[0;36mtrain\u001b[0;34m(params, dtrain, num_boost_round, evals, obj, feval, maximize, early_stopping_rounds, evals_result, verbose_eval, learning_rates, xgb_model, callbacks)\u001b[0m\n\u001b[1;32m    203\u001b[0m                            \u001b[0mevals\u001b[0m\u001b[0;34m=\u001b[0m\u001b[0mevals\u001b[0m\u001b[0;34m,\u001b[0m\u001b[0;34m\u001b[0m\u001b[0m\n\u001b[1;32m    204\u001b[0m                            \u001b[0mobj\u001b[0m\u001b[0;34m=\u001b[0m\u001b[0mobj\u001b[0m\u001b[0;34m,\u001b[0m \u001b[0mfeval\u001b[0m\u001b[0;34m=\u001b[0m\u001b[0mfeval\u001b[0m\u001b[0;34m,\u001b[0m\u001b[0;34m\u001b[0m\u001b[0m\n\u001b[0;32m--> 205\u001b[0;31m                            xgb_model=xgb_model, callbacks=callbacks)\n\u001b[0m\u001b[1;32m    206\u001b[0m \u001b[0;34m\u001b[0m\u001b[0m\n\u001b[1;32m    207\u001b[0m \u001b[0;34m\u001b[0m\u001b[0m\n",
      "\u001b[0;32m/Users/zhangzhihao/anaconda3/lib/python3.6/site-packages/xgboost/training.py\u001b[0m in \u001b[0;36m_train_internal\u001b[0;34m(params, dtrain, num_boost_round, evals, obj, feval, xgb_model, callbacks)\u001b[0m\n\u001b[1;32m     74\u001b[0m         \u001b[0;31m# Skip the first update if it is a recovery step.\u001b[0m\u001b[0;34m\u001b[0m\u001b[0;34m\u001b[0m\u001b[0m\n\u001b[1;32m     75\u001b[0m         \u001b[0;32mif\u001b[0m \u001b[0mversion\u001b[0m \u001b[0;34m%\u001b[0m \u001b[0;36m2\u001b[0m \u001b[0;34m==\u001b[0m \u001b[0;36m0\u001b[0m\u001b[0;34m:\u001b[0m\u001b[0;34m\u001b[0m\u001b[0m\n\u001b[0;32m---> 76\u001b[0;31m             \u001b[0mbst\u001b[0m\u001b[0;34m.\u001b[0m\u001b[0mupdate\u001b[0m\u001b[0;34m(\u001b[0m\u001b[0mdtrain\u001b[0m\u001b[0;34m,\u001b[0m \u001b[0mi\u001b[0m\u001b[0;34m,\u001b[0m \u001b[0mobj\u001b[0m\u001b[0;34m)\u001b[0m\u001b[0;34m\u001b[0m\u001b[0m\n\u001b[0m\u001b[1;32m     77\u001b[0m             \u001b[0mbst\u001b[0m\u001b[0;34m.\u001b[0m\u001b[0msave_rabit_checkpoint\u001b[0m\u001b[0;34m(\u001b[0m\u001b[0;34m)\u001b[0m\u001b[0;34m\u001b[0m\u001b[0m\n\u001b[1;32m     78\u001b[0m             \u001b[0mversion\u001b[0m \u001b[0;34m+=\u001b[0m \u001b[0;36m1\u001b[0m\u001b[0;34m\u001b[0m\u001b[0m\n",
      "\u001b[0;32m/Users/zhangzhihao/anaconda3/lib/python3.6/site-packages/xgboost/core.py\u001b[0m in \u001b[0;36mupdate\u001b[0;34m(self, dtrain, iteration, fobj)\u001b[0m\n\u001b[1;32m    804\u001b[0m \u001b[0;34m\u001b[0m\u001b[0m\n\u001b[1;32m    805\u001b[0m         \u001b[0;32mif\u001b[0m \u001b[0mfobj\u001b[0m \u001b[0;32mis\u001b[0m \u001b[0;32mNone\u001b[0m\u001b[0;34m:\u001b[0m\u001b[0;34m\u001b[0m\u001b[0m\n\u001b[0;32m--> 806\u001b[0;31m             \u001b[0m_check_call\u001b[0m\u001b[0;34m(\u001b[0m\u001b[0m_LIB\u001b[0m\u001b[0;34m.\u001b[0m\u001b[0mXGBoosterUpdateOneIter\u001b[0m\u001b[0;34m(\u001b[0m\u001b[0mself\u001b[0m\u001b[0;34m.\u001b[0m\u001b[0mhandle\u001b[0m\u001b[0;34m,\u001b[0m \u001b[0miteration\u001b[0m\u001b[0;34m,\u001b[0m \u001b[0mdtrain\u001b[0m\u001b[0;34m.\u001b[0m\u001b[0mhandle\u001b[0m\u001b[0;34m)\u001b[0m\u001b[0;34m)\u001b[0m\u001b[0;34m\u001b[0m\u001b[0m\n\u001b[0m\u001b[1;32m    807\u001b[0m         \u001b[0;32melse\u001b[0m\u001b[0;34m:\u001b[0m\u001b[0;34m\u001b[0m\u001b[0m\n\u001b[1;32m    808\u001b[0m             \u001b[0mpred\u001b[0m \u001b[0;34m=\u001b[0m \u001b[0mself\u001b[0m\u001b[0;34m.\u001b[0m\u001b[0mpredict\u001b[0m\u001b[0;34m(\u001b[0m\u001b[0mdtrain\u001b[0m\u001b[0;34m)\u001b[0m\u001b[0;34m\u001b[0m\u001b[0m\n",
      "\u001b[0;31mKeyboardInterrupt\u001b[0m: "
     ]
    }
   ],
   "source": [
    "import xgboost as xgb\n",
    "d_train=trainSet.ix[:100000,1:].ix[:,lis]\n",
    "d_label=trainSet.ix[:100000,0]\n",
    "dtrain=xgb.DMatrix(data=d_train,label=d_label)\n",
    "params = {\n",
    "            'objective':'binary:logistic',\n",
    "            'eta':0.1,\n",
    "            'eval_metric':'logloss',\n",
    "            'max_depth':12,\n",
    "            'subsample':1,\n",
    "            'min_child_weight':15,\n",
    "            'colsample_bytree':1,\n",
    "            'scale_pos_weight':0.9,\n",
    "            'gamma':0.3,\n",
    "            'lambda':70\n",
    "}\n",
    "cv_train=trainSet.ix[100000:140000,1:].ix[:,lis]\n",
    "cv_label=trainSet.ix[100000:140000,0]\n",
    "dval=xgb.DMatrix(data=cv_train,label=cv_label)\n",
    "watchlist=[(dtrain,'train'),(dval,'val')]\n",
    "bst=xgb.train(params,dtrain,100,evals=watchlist)"
   ]
  },
  {
   "cell_type": "code",
   "execution_count": 103,
   "metadata": {
    "collapsed": true
   },
   "outputs": [],
   "source": [
    "def get_dummy(Set,columns):\n",
    "    result=Set\n",
    "    for i in columns:\n",
    "        result[i]=result[i].astype('category')\n",
    "    dummy=pd.get_dummies(result[columns])\n",
    "    result=pd.concat([result,dummy],axis=1)\n",
    "    result=result.drop(columns,axis=1)\n",
    "    return result\n"
   ]
  },
  {
   "cell_type": "code",
   "execution_count": 104,
   "metadata": {
    "collapsed": false
   },
   "outputs": [
    {
     "data": {
      "text/plain": [
       "Index(['label', 'creativeID', 'userID', 'positionID', 'connectionType',\n",
       "       'telecomsOperator', 'age', 'gender', 'education', 'marriageStatus',\n",
       "       'haveBaby', 'hometown', 'residence', 'sitesetID', 'positionType',\n",
       "       'appinstalled_201', 'appinstalled_409', 'appinstalled_301',\n",
       "       'appinstalled_203', 'appinstalled_503', 'appinstalled_407',\n",
       "       'appinstalled_103', 'appinstalled_406', 'appinstalled_209',\n",
       "       'appinstalled_108', 'appinstalled_211', 'appinstalled_402',\n",
       "       'appinstalled_210', 'appinstalled_2', 'appinstalled_405',\n",
       "       'appinstalled_408', 'appinstalled_106', 'appinstalled_403',\n",
       "       'appinstalled_401', 'appinstalled_109', 'appinstalled_104',\n",
       "       'appinstalled_303', 'appinstalled_110', 'appinstalled_105',\n",
       "       'appinstalled_204', 'appinstalled_1', 'action_109', 'action_104',\n",
       "       'action_106', 'action_401', 'action_405', 'action_108', 'action_201',\n",
       "       'action_408', 'action_503', 'action_402', 'action_301', 'action_209',\n",
       "       'action_407', 'action_203', 'action_409', 'action_403', 'action_105',\n",
       "       'action_2', 'action_210', 'action_110', 'action_406', 'action_204',\n",
       "       'action_303', 'action_211', 'action_103', 'action_1', 'adID',\n",
       "       'camgaignID', 'advertiserID', 'appID', 'appPlatform', 'appCategory'],\n",
       "      dtype='object')"
      ]
     },
     "execution_count": 104,
     "metadata": {},
     "output_type": "execute_result"
    }
   ],
   "source": [
    "train_set.columns"
   ]
  },
  {
   "cell_type": "code",
   "execution_count": 105,
   "metadata": {
    "collapsed": true
   },
   "outputs": [],
   "source": [
    "one_hot_list=['connectionType','telecomsOperator','gender','education','marriageStatus','haveBaby','sitesetID','positionType','appCategory']\n",
    "trainSet=get_dummy(train_set,one_hot_list)"
   ]
  },
  {
   "cell_type": "code",
   "execution_count": 119,
   "metadata": {
    "collapsed": false
   },
   "outputs": [],
   "source": [
    "selected=(abs(trainSet[:10000].corr()['label'])>0.01)&(abs(trainSet[:10000].corr()['label'])<0.9)"
   ]
  },
  {
   "cell_type": "code",
   "execution_count": 120,
   "metadata": {
    "collapsed": false
   },
   "outputs": [
    {
     "data": {
      "text/plain": [
       "label               False\n",
       "creativeID           True\n",
       "userID              False\n",
       "positionID           True\n",
       "age                 False\n",
       "hometown            False\n",
       "residence           False\n",
       "appinstalled_201     True\n",
       "appinstalled_409     True\n",
       "appinstalled_301     True\n",
       "appinstalled_203     True\n",
       "appinstalled_503     True\n",
       "appinstalled_407     True\n",
       "appinstalled_103     True\n",
       "appinstalled_406     True\n",
       "appinstalled_209     True\n",
       "appinstalled_108    False\n",
       "appinstalled_211    False\n",
       "appinstalled_402     True\n",
       "appinstalled_210     True\n",
       "appinstalled_2       True\n",
       "appinstalled_405     True\n",
       "appinstalled_408     True\n",
       "appinstalled_106     True\n",
       "appinstalled_403    False\n",
       "appinstalled_401     True\n",
       "appinstalled_109     True\n",
       "appinstalled_104     True\n",
       "appinstalled_303     True\n",
       "appinstalled_110     True\n",
       "                    ...  \n",
       "marriageStatus_2    False\n",
       "marriageStatus_3    False\n",
       "haveBaby_1           True\n",
       "haveBaby_2          False\n",
       "haveBaby_3          False\n",
       "haveBaby_4          False\n",
       "haveBaby_5           True\n",
       "haveBaby_6           True\n",
       "sitesetID_0          True\n",
       "sitesetID_1          True\n",
       "sitesetID_2         False\n",
       "positionType_1       True\n",
       "positionType_2       True\n",
       "positionType_3       True\n",
       "positionType_4      False\n",
       "positionType_5       True\n",
       "appCategory_0       False\n",
       "appCategory_2        True\n",
       "appCategory_101      True\n",
       "appCategory_104      True\n",
       "appCategory_106      True\n",
       "appCategory_108      True\n",
       "appCategory_201      True\n",
       "appCategory_203      True\n",
       "appCategory_209      True\n",
       "appCategory_301     False\n",
       "appCategory_402      True\n",
       "appCategory_407      True\n",
       "appCategory_408     False\n",
       "appCategory_503      True\n",
       "Name: label, dtype: bool"
      ]
     },
     "execution_count": 120,
     "metadata": {},
     "output_type": "execute_result"
    }
   ],
   "source": []
  },
  {
   "cell_type": "code",
   "execution_count": 124,
   "metadata": {
    "collapsed": true
   },
   "outputs": [],
   "source": [
    "from sklearn.feature_selection import SelectFromModel\n",
    "from sklearn.ensemble import GradientBoostingClassifier"
   ]
  },
  {
   "cell_type": "code",
   "execution_count": 134,
   "metadata": {
    "collapsed": false
   },
   "outputs": [],
   "source": [
    "feature=SelectFromModel(GradientBoostingClassifier())"
   ]
  },
  {
   "cell_type": "code",
   "execution_count": 135,
   "metadata": {
    "collapsed": false
   },
   "outputs": [
    {
     "data": {
      "text/plain": [
       "SelectFromModel(estimator=GradientBoostingClassifier(criterion='friedman_mse', init=None,\n",
       "              learning_rate=0.1, loss='deviance', max_depth=3,\n",
       "              max_features=None, max_leaf_nodes=None,\n",
       "              min_impurity_split=1e-07, min_samples_leaf=1,\n",
       "              min_samples_split=2, min_weight_fraction_leaf=0.0,\n",
       "              n_estimators=100, presort='auto', random_state=None,\n",
       "              subsample=1.0, verbose=0, warm_start=False),\n",
       "        prefit=False, threshold=None)"
      ]
     },
     "execution_count": 135,
     "metadata": {},
     "output_type": "execute_result"
    }
   ],
   "source": [
    "feature.fit(train_set.iloc[:100000,1:],train_set.iloc[:100000,0])"
   ]
  },
  {
   "cell_type": "code",
   "execution_count": 137,
   "metadata": {
    "collapsed": false
   },
   "outputs": [],
   "source": [
    "lis=feature.get_support()"
   ]
  },
  {
   "cell_type": "code",
   "execution_count": 142,
   "metadata": {
    "collapsed": false
   },
   "outputs": [
    {
     "data": {
      "text/plain": [
       "Index(['label', 'creativeID', 'userID', 'positionID', 'connectionType',\n",
       "       'telecomsOperator', 'age', 'gender', 'education', 'marriageStatus',\n",
       "       'haveBaby', 'hometown', 'residence', 'sitesetID', 'positionType',\n",
       "       'appinstalled_201', 'appinstalled_409', 'appinstalled_301',\n",
       "       'appinstalled_203', 'appinstalled_503', 'appinstalled_407',\n",
       "       'appinstalled_103', 'appinstalled_406', 'appinstalled_209',\n",
       "       'appinstalled_108', 'appinstalled_211', 'appinstalled_402',\n",
       "       'appinstalled_210', 'appinstalled_2', 'appinstalled_405',\n",
       "       'appinstalled_408', 'appinstalled_106', 'appinstalled_403',\n",
       "       'appinstalled_401', 'appinstalled_109', 'appinstalled_104',\n",
       "       'appinstalled_303', 'appinstalled_110', 'appinstalled_105',\n",
       "       'appinstalled_204', 'appinstalled_1', 'action_109', 'action_104',\n",
       "       'action_106', 'action_401', 'action_405', 'action_108', 'action_201',\n",
       "       'action_408', 'action_503', 'action_402', 'action_301', 'action_209',\n",
       "       'action_407', 'action_203', 'action_409', 'action_403', 'action_105',\n",
       "       'action_2', 'action_210', 'action_110', 'action_406', 'action_204',\n",
       "       'action_303', 'action_211', 'action_103', 'action_1', 'adID',\n",
       "       'camgaignID', 'advertiserID', 'appID', 'appPlatform', 'appCategory'],\n",
       "      dtype='object')"
      ]
     },
     "execution_count": 142,
     "metadata": {},
     "output_type": "execute_result"
    }
   ],
   "source": [
    "train_set.columns"
   ]
  },
  {
   "cell_type": "code",
   "execution_count": null,
   "metadata": {
    "collapsed": true
   },
   "outputs": [],
   "source": []
  }
 ],
 "metadata": {
  "kernelspec": {
   "display_name": "Python 3",
   "language": "python",
   "name": "python3"
  },
  "language_info": {
   "codemirror_mode": {
    "name": "ipython",
    "version": 3
   },
   "file_extension": ".py",
   "mimetype": "text/x-python",
   "name": "python",
   "nbconvert_exporter": "python",
   "pygments_lexer": "ipython3",
   "version": "3.6.0"
  }
 },
 "nbformat": 4,
 "nbformat_minor": 2
}
